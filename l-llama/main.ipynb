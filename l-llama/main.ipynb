{
 "cells": [
  {
   "cell_type": "code",
   "execution_count": 6,
   "id": "d4dc6c57",
   "metadata": {},
   "outputs": [],
   "source": [
    "import nest_asyncio\n",
    "nest_asyncio.apply()"
   ]
  },
  {
   "cell_type": "code",
   "execution_count": 1,
   "id": "eff3141a",
   "metadata": {},
   "outputs": [],
   "source": [
    "from llama_cloud_services import LlamaParse\n",
    "import os"
   ]
  },
  {
   "cell_type": "code",
   "execution_count": 2,
   "id": "ac3eea93",
   "metadata": {},
   "outputs": [],
   "source": [
    "LLAMA_API_KEY = os.environ.get(\"LLAMA_API_KEY\")\n",
    "if not LlamaParse:\n",
    "    raise Exception(\"API key not found.\")"
   ]
  },
  {
   "cell_type": "code",
   "execution_count": 3,
   "id": "fcf1dd88",
   "metadata": {},
   "outputs": [],
   "source": [
    "parser = LlamaParse(\n",
    "    api_key=LLAMA_API_KEY,\n",
    "    num_workers=4,       # if multiple files passed, split in `num_workers` API calls\n",
    "    verbose=True,\n",
    "    language=\"en\",       # optionally define a language, default=en\n",
    ")"
   ]
  },
  {
   "cell_type": "code",
   "execution_count": 8,
   "id": "74c1db55",
   "metadata": {},
   "outputs": [
    {
     "name": "stdout",
     "output_type": "stream",
     "text": [
      "Started parsing the file under job_id 21c907c6-8b09-4d85-b44d-fd0e7f2f699e\n"
     ]
    },
    {
     "name": "stderr",
     "output_type": "stream",
     "text": [
      "/workspaces/gen-ai/env/lib/python3.12/site-packages/anyio/abc/_sockets.py:67: RuntimeWarning: coroutine 'LlamaParse.aparse' was never awaited\n",
      "  SocketAttribute.raw_socket: lambda: self._raw_socket,\n",
      "RuntimeWarning: Enable tracemalloc to get the object allocation traceback\n"
     ]
    }
   ],
   "source": [
    "result = parser.parse(\"./test.pdf\")"
   ]
  },
  {
   "cell_type": "code",
   "execution_count": 13,
   "id": "89be1dfc",
   "metadata": {},
   "outputs": [
    {
     "data": {
      "text/plain": [
       "[Document(id_='72d1fcd0-70e9-495c-95d2-d57dc32ad9e1', embedding=None, metadata={'page_number': 1, 'file_name': './test.pdf'}, excluded_embed_metadata_keys=[], excluded_llm_metadata_keys=[], relationships={}, metadata_template='{key}: {value}', metadata_separator='\\n', text_resource=MediaResource(embeddings=None, data=None, text=\"# Print Claim UnitedHealthcare\\n\\n# Livwell Healthcare\\n\\n# Current Status\\n\\nClaim Processed\\n\\nMedical Claim # EV26375473 In-Network\\n\\nPatient Name: Daniel Rodrigues\\n\\nDate of service: 12/10/2024\\n\\nDate Received: 12/16/2024\\n\\n# Claim Payment Breakdown\\n\\n|Total Amount Billed|$594.00|Processed 12/18/2024|\\n|---|---|---|\\n|Plan Discount|$417.40|Processed 12/18/2024|\\n|Plan Paid|$173.60|Processed 12/18/2024|\\n|Your Total Amount Owed|$3.00|Not Marked As Paid|\\n\\n# Claim Provided Services\\n\\n|Provided Service|Amount Billed|Plan Discount|Plan Paid|Copay|Coinsurance|Deductible|Non-Covered|\\n|---|---|---|---|---|---|---|---|\\n|12/10/2024|$20.25|$17.25|$0.00|$0.00|$0.00|$3.00|$0.00|\\n|12/10/2024|$573.75|$400.15|$173.60|$0.00|$0.00|$0.00|$0.00|\\n\\n# Service Description\\n\\nRoutine procedure for taking a blood sample from a vein.\\n\\nComprehensive, preventive medical assessment for an adult (40-64 years old): This typically includes age- and gender-appropriate history, exam, counseling; education and necessary lab work or imaging.\\n\\n# Claim Codes\\n\\nYou have received a discount for using a health care professional in your plan's network: The total amount you owe may include your cost share (deductible, copay and coinsurance) and any non-covered amount after you meet your benefit limit for a covered service. (PPOOO8)\\n\\nBenefits for this service have been applied to your deductible: The amount you owe shown on this statement is the amount you may owe your health care professional. (DEDOO3)\\n\\nYou have received a discount for using a health care professional in your plan's network. The total amount you owe may include your cost share (deductible, copay and coinsurance) and any non-covered amount after you meet your benefit limit for a covered service: (PPO0O8)\\n\\nClaim Details\", path=None, url=None, mimetype=None), image_resource=None, audio_resource=None, video_resource=None, text_template='{metadata_str}\\n\\n{content}')]"
      ]
     },
     "execution_count": 13,
     "metadata": {},
     "output_type": "execute_result"
    }
   ],
   "source": [
    "# get the llama-index markdown documents\n",
    "markdown_documents = result.get_markdown_documents(split_by_page=True)\n",
    "markdown_documents"
   ]
  },
  {
   "cell_type": "code",
   "execution_count": 18,
   "id": "d3684ef8",
   "metadata": {},
   "outputs": [
    {
     "data": {
      "text/plain": [
       "\"# Print Claim UnitedHealthcare\\n\\n# Livwell Healthcare\\n\\n# Current Status\\n\\nClaim Processed\\n\\nMedical Claim # EV26375473 In-Network\\n\\nPatient Name: Daniel Rodrigues\\n\\nDate of service: 12/10/2024\\n\\nDate Received: 12/16/2024\\n\\n# Claim Payment Breakdown\\n\\n|Total Amount Billed|$594.00|Processed 12/18/2024|\\n|---|---|---|\\n|Plan Discount|$417.40|Processed 12/18/2024|\\n|Plan Paid|$173.60|Processed 12/18/2024|\\n|Your Total Amount Owed|$3.00|Not Marked As Paid|\\n\\n# Claim Provided Services\\n\\n|Provided Service|Amount Billed|Plan Discount|Plan Paid|Copay|Coinsurance|Deductible|Non-Covered|\\n|---|---|---|---|---|---|---|---|\\n|12/10/2024|$20.25|$17.25|$0.00|$0.00|$0.00|$3.00|$0.00|\\n|12/10/2024|$573.75|$400.15|$173.60|$0.00|$0.00|$0.00|$0.00|\\n\\n# Service Description\\n\\nRoutine procedure for taking a blood sample from a vein.\\n\\nComprehensive, preventive medical assessment for an adult (40-64 years old): This typically includes age- and gender-appropriate history, exam, counseling; education and necessary lab work or imaging.\\n\\n# Claim Codes\\n\\nYou have received a discount for using a health care professional in your plan's network: The total amount you owe may include your cost share (deductible, copay and coinsurance) and any non-covered amount after you meet your benefit limit for a covered service. (PPOOO8)\\n\\nBenefits for this service have been applied to your deductible: The amount you owe shown on this statement is the amount you may owe your health care professional. (DEDOO3)\\n\\nYou have received a discount for using a health care professional in your plan's network. The total amount you owe may include your cost share (deductible, copay and coinsurance) and any non-covered amount after you meet your benefit limit for a covered service: (PPO0O8)\\n\\nClaim Details\""
      ]
     },
     "execution_count": 18,
     "metadata": {},
     "output_type": "execute_result"
    }
   ],
   "source": [
    "markdown_documents[0].text_resource.text"
   ]
  },
  {
   "cell_type": "markdown",
   "id": "a45a469b",
   "metadata": {},
   "source": [
    "# Print Claim UnitedHealthcare\n",
    "\n",
    "# Livwell Healthcare\n",
    "\n",
    "# Current Status\n",
    "\n",
    "Claim Processed\n",
    "\n",
    "Medical Claim # EV26375473 In-Network\n",
    "\n",
    "Patient Name: Daniel Rodrigues\n",
    "\n",
    "Date of service: 12/10/2024\n",
    "\n",
    "Date Received: 12/16/2024\n",
    "\n",
    "# Claim Payment Breakdown\n",
    "\n",
    "|Total Amount Billed|$594.00|Processed 12/18/2024|\n",
    "|---|---|---|\n",
    "|Plan Discount|$417.40|Processed 12/18/2024|\n",
    "|Plan Paid|$173.60|Processed 12/18/2024|\n",
    "|Your Total Amount Owed|$3.00|Not Marked As Paid|\n",
    "\n",
    "# Claim Provided Services\n",
    "\n",
    "|Provided Service|Amount Billed|Plan Discount|Plan Paid|Copay|Coinsurance|Deductible|Non-Covered|\n",
    "|---|---|---|---|---|---|---|---|\n",
    "|12/10/2024|$20.25|$17.25|$0.00|$0.00|$0.00|$3.00|$0.00|\n",
    "|12/10/2024|$573.75|$400.15|$173.60|$0.00|$0.00|$0.00|$0.00|\n",
    "\n",
    "# Service Description\n",
    "\n",
    "Routine procedure for taking a blood sample from a vein.\n",
    "\n",
    "Comprehensive, preventive medical assessment for an adult (40-64 years old): This typically includes age- and gender-appropriate history, exam, counseling; education and necessary lab work or imaging.\n",
    "\n",
    "# Claim Codes\n",
    "\n",
    "You have received a discount for using a health care professional in your plan's network: The total amount you owe may include your cost share (deductible, copay and coinsurance) and any non-covered amount after you meet your benefit limit for a covered service. (PPOOO8)\n",
    "\n",
    "Benefits for this service have been applied to your deductible: The amount you owe shown on this statement is the amount you may owe your health care professional. (DEDOO3)\n",
    "\n",
    "You have received a discount for using a health care professional in your plan's network. The total amount you owe may include your cost share (deductible, copay and coinsurance) and any non-covered amount after you meet your benefit limit for a covered service: (PPO0O8)\n",
    "\n",
    "Claim Details"
   ]
  },
  {
   "cell_type": "code",
   "execution_count": 14,
   "id": "80076e6f",
   "metadata": {},
   "outputs": [
    {
     "data": {
      "text/plain": [
       "[Document(id_='6a373bde-f6df-4ee8-9cfe-fe768877566e', embedding=None, metadata={'file_name': './test.pdf'}, excluded_embed_metadata_keys=[], excluded_llm_metadata_keys=[], relationships={}, metadata_template='{key}: {value}', metadata_separator='\\n', text_resource=MediaResource(embeddings=None, data=None, text=\"12/20/24,8.28 PM                                Print Claim UnitedHealthcare\\n  Livwell Healthcare                             Current Status\\n  Solutions                                     Claim Processed\\n   Medical Claim # EV26375473 In-Network            Submitted Under Review Processed\\n  Patient Name: Daniel Rodrigues\\n  Date of service:  12/10/2024\\n  Date Received: 12/16/2024\\n  Claim Payment Breakdown\\n  Total Amount Billed                       $594.00                      Processed   12/18/2024\\n  Plan Discount                             S417.40                      Processed   12/18/2024\\n  Plan Paid                                 S173.60                      Processed   12/18/2024\\n  Your Total Amount Owed $3.00                                               Not Marked As Paid\\n  Claim Provided Services\\n  Provided Service          Amount   Plan      Plan Paid Copay    Coinsurance Deductible Non-\\n                            Billed   Discount                                         Covered\\n  12/10/2024                S20.25   S17.25    SO.00     SO.00    SO.00     S3.00    SO.00\\n  Service Description:\\n  Routine procedure for taking a blood sample from a vein.\\n  Claim Codes:\\n  You have received a discount for using a health care professional in your plan's network: The total\\n  amount you owe may include your cost share (deductible, copay and coinsurance) andany non-covered\\n  amount after you meet your benefit limit for a covered service. (PPOOO8)\\n  Benefits for this service have been applied to your deductible: The amount you owe shown on this\\n  statement is the amount you may owe your health care professional. (DEDOO3)\\n  12/10/2024                8573.75  S400.15   S173.60   SO.00    SO.00     SO.00    SO.00\\n  Service Description:\\n  Comprehensive, preventive medical assessment for an adult (40-64 years old): This typically includes\\n  age- and gender-appropriate history, exam, counseling; education and necessary lab work or imaging:\\n  Claim Codes:\\n  You have received a discount for using a health care professional inʸᵒᵘʳplan's network. The total\\n  amount you owe may include your cost share (deductible, copay and coinsurance) and any non-covered\\n  amount after you meet your benefit limit for a covered service: (PPO0O8)\\nhttps:Ilmember uhc com/claims-and-accounts/claim-details/modal print-claim-details?claimKey-wOIB%2FvPZaFBVTBELS7q97h3 ViX9gUxoxa4XliMZZ%2FySjX. _  1/1\", path=None, url=None, mimetype=None), image_resource=None, audio_resource=None, video_resource=None, text_template='{metadata_str}\\n\\n{content}')]"
      ]
     },
     "execution_count": 14,
     "metadata": {},
     "output_type": "execute_result"
    }
   ],
   "source": [
    "# get the llama-index text documents\n",
    "text_documents = result.get_text_documents(split_by_page=False)\n",
    "text_documents"
   ]
  },
  {
   "cell_type": "code",
   "execution_count": 15,
   "id": "1dcc0dfd",
   "metadata": {},
   "outputs": [
    {
     "data": {
      "text/plain": [
       "[]"
      ]
     },
     "execution_count": 15,
     "metadata": {},
     "output_type": "execute_result"
    }
   ],
   "source": [
    "# get the image documents\n",
    "image_documents = result.get_image_documents(\n",
    "    include_screenshot_images=True,\n",
    "    include_object_images=False,\n",
    "    # Optional: download the images to a directory\n",
    "    # (default is to return the image bytes in ImageDocument objects)\n",
    "    image_download_dir=\"./images\",\n",
    ")\n",
    "image_documents"
   ]
  },
  {
   "cell_type": "code",
   "execution_count": 16,
   "id": "62e03d9e",
   "metadata": {},
   "outputs": [
    {
     "name": "stdout",
     "output_type": "stream",
     "text": [
      "12/20/24,8.28 PM                                Print Claim UnitedHealthcare\n",
      "  Livwell Healthcare                             Current Status\n",
      "  Solutions                                     Claim Processed\n",
      "   Medical Claim # EV26375473 In-Network            Submitted Under Review Processed\n",
      "  Patient Name: Daniel Rodrigues\n",
      "  Date of service:  12/10/2024\n",
      "  Date Received: 12/16/2024\n",
      "  Claim Payment Breakdown\n",
      "  Total Amount Billed                       $594.00                      Processed   12/18/2024\n",
      "  Plan Discount                             S417.40                      Processed   12/18/2024\n",
      "  Plan Paid                                 S173.60                      Processed   12/18/2024\n",
      "  Your Total Amount Owed $3.00                                               Not Marked As Paid\n",
      "  Claim Provided Services\n",
      "  Provided Service          Amount   Plan      Plan Paid Copay    Coinsurance Deductible Non-\n",
      "                            Billed   Discount                                         Covered\n",
      "  12/10/2024                S20.25   S17.25    SO.00     SO.00    SO.00     S3.00    SO.00\n",
      "  Service Description:\n",
      "  Routine procedure for taking a blood sample from a vein.\n",
      "  Claim Codes:\n",
      "  You have received a discount for using a health care professional in your plan's network: The total\n",
      "  amount you owe may include your cost share (deductible, copay and coinsurance) andany non-covered\n",
      "  amount after you meet your benefit limit for a covered service. (PPOOO8)\n",
      "  Benefits for this service have been applied to your deductible: The amount you owe shown on this\n",
      "  statement is the amount you may owe your health care professional. (DEDOO3)\n",
      "  12/10/2024                8573.75  S400.15   S173.60   SO.00    SO.00     SO.00    SO.00\n",
      "  Service Description:\n",
      "  Comprehensive, preventive medical assessment for an adult (40-64 years old): This typically includes\n",
      "  age- and gender-appropriate history, exam, counseling; education and necessary lab work or imaging:\n",
      "  Claim Codes:\n",
      "  You have received a discount for using a health care professional inʸᵒᵘʳplan's network. The total\n",
      "  amount you owe may include your cost share (deductible, copay and coinsurance) and any non-covered\n",
      "  amount after you meet your benefit limit for a covered service: (PPO0O8)\n",
      "https:Ilmember uhc com/claims-and-accounts/claim-details/modal print-claim-details?claimKey-wOIB%2FvPZaFBVTBELS7q97h3 ViX9gUxoxa4XliMZZ%2FySjX. _  1/1\n",
      "# Print Claim UnitedHealthcare\n",
      "\n",
      "# Livwell Healthcare\n",
      "\n",
      "# Current Status\n",
      "\n",
      "Claim Processed\n",
      "\n",
      "Medical Claim # EV26375473 In-Network\n",
      "\n",
      "Patient Name: Daniel Rodrigues\n",
      "\n",
      "Date of service: 12/10/2024\n",
      "\n",
      "Date Received: 12/16/2024\n",
      "\n",
      "# Claim Payment Breakdown\n",
      "\n",
      "|Total Amount Billed|$594.00|Processed 12/18/2024|\n",
      "|---|---|---|\n",
      "|Plan Discount|$417.40|Processed 12/18/2024|\n",
      "|Plan Paid|$173.60|Processed 12/18/2024|\n",
      "|Your Total Amount Owed|$3.00|Not Marked As Paid|\n",
      "\n",
      "# Claim Provided Services\n",
      "\n",
      "|Provided Service|Amount Billed|Plan Discount|Plan Paid|Copay|Coinsurance|Deductible|Non-Covered|\n",
      "|---|---|---|---|---|---|---|---|\n",
      "|12/10/2024|$20.25|$17.25|$0.00|$0.00|$0.00|$3.00|$0.00|\n",
      "|12/10/2024|$573.75|$400.15|$173.60|$0.00|$0.00|$0.00|$0.00|\n",
      "\n",
      "# Service Description\n",
      "\n",
      "Routine procedure for taking a blood sample from a vein.\n",
      "\n",
      "Comprehensive, preventive medical assessment for an adult (40-64 years old): This typically includes age- and gender-appropriate history, exam, counseling; education and necessary lab work or imaging.\n",
      "\n",
      "# Claim Codes\n",
      "\n",
      "You have received a discount for using a health care professional in your plan's network: The total amount you owe may include your cost share (deductible, copay and coinsurance) and any non-covered amount after you meet your benefit limit for a covered service. (PPOOO8)\n",
      "\n",
      "Benefits for this service have been applied to your deductible: The amount you owe shown on this statement is the amount you may owe your health care professional. (DEDOO3)\n",
      "\n",
      "You have received a discount for using a health care professional in your plan's network. The total amount you owe may include your cost share (deductible, copay and coinsurance) and any non-covered amount after you meet your benefit limit for a covered service: (PPO0O8)\n",
      "\n",
      "Claim Details\n",
      "[ImageItem(name='img_p0_1.png', height=2095.0, width=1270.0, x=0.0, y=0.0, original_width=1270, original_height=2095, type=None)]\n",
      "[]\n",
      "None\n"
     ]
    }
   ],
   "source": [
    "# Items will vary based on the parser configuration\n",
    "for page in result.pages:\n",
    "    print(page.text)\n",
    "    print(page.md)\n",
    "    print(page.images)\n",
    "    print(page.layout)\n",
    "    print(page.structuredData)"
   ]
  },
  {
   "cell_type": "code",
   "execution_count": null,
   "id": "53f649d9",
   "metadata": {},
   "outputs": [],
   "source": []
  }
 ],
 "metadata": {
  "kernelspec": {
   "display_name": "env",
   "language": "python",
   "name": "python3"
  },
  "language_info": {
   "codemirror_mode": {
    "name": "ipython",
    "version": 3
   },
   "file_extension": ".py",
   "mimetype": "text/x-python",
   "name": "python",
   "nbconvert_exporter": "python",
   "pygments_lexer": "ipython3",
   "version": "3.12.1"
  }
 },
 "nbformat": 4,
 "nbformat_minor": 5
}
