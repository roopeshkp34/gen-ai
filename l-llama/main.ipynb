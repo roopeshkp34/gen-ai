{
 "cells": [
  {
   "cell_type": "code",
   "execution_count": 6,
   "id": "d4dc6c57",
   "metadata": {},
   "outputs": [],
   "source": [
    "import nest_asyncio\n",
    "nest_asyncio.apply()"
   ]
  },
  {
   "cell_type": "code",
   "execution_count": 3,
   "id": "eff3141a",
   "metadata": {},
   "outputs": [],
   "source": [
    "from llama_cloud_services import LlamaParse\n",
    "import os"
   ]
  },
  {
   "cell_type": "code",
   "execution_count": 4,
   "id": "ac3eea93",
   "metadata": {},
   "outputs": [],
   "source": [
    "LLAMA_API_KEY = os.environ.get(\"LLAMA_API_KEY\")\n",
    "if not LLAMA_API_KEY:\n",
    "    raise Exception(\"API key not found.\")"
   ]
  },
  {
   "cell_type": "code",
   "execution_count": 3,
   "id": "fcf1dd88",
   "metadata": {},
   "outputs": [],
   "source": [
    "parser = LlamaParse(\n",
    "    api_key=LLAMA_API_KEY,\n",
    "    num_workers=4,       # if multiple files passed, split in `num_workers` API calls\n",
    "    verbose=True,\n",
    "    language=\"en\",       # optionally define a language, default=en\n",
    ")"
   ]
  },
  {
   "cell_type": "code",
   "execution_count": 8,
   "id": "74c1db55",
   "metadata": {},
   "outputs": [
    {
     "name": "stdout",
     "output_type": "stream",
     "text": [
      "Started parsing the file under job_id 21c907c6-8b09-4d85-b44d-fd0e7f2f699e\n"
     ]
    },
    {
     "name": "stderr",
     "output_type": "stream",
     "text": [
      "/workspaces/gen-ai/env/lib/python3.12/site-packages/anyio/abc/_sockets.py:67: RuntimeWarning: coroutine 'LlamaParse.aparse' was never awaited\n",
      "  SocketAttribute.raw_socket: lambda: self._raw_socket,\n",
      "RuntimeWarning: Enable tracemalloc to get the object allocation traceback\n"
     ]
    }
   ],
   "source": [
    "result = parser.parse(\"./test.pdf\")"
   ]
  },
  {
   "cell_type": "code",
   "execution_count": 13,
   "id": "89be1dfc",
   "metadata": {},
   "outputs": [
    {
     "data": {
      "text/plain": [
       "[Document(id_='72d1fcd0-70e9-495c-95d2-d57dc32ad9e1', embedding=None, metadata={'page_number': 1, 'file_name': './test.pdf'}, excluded_embed_metadata_keys=[], excluded_llm_metadata_keys=[], relationships={}, metadata_template='{key}: {value}', metadata_separator='\\n', text_resource=MediaResource(embeddings=None, data=None, text=\"# Print Claim UnitedHealthcare\\n\\n# Livwell Healthcare\\n\\n# Current Status\\n\\nClaim Processed\\n\\nMedical Claim # EV26375473 In-Network\\n\\nPatient Name: Daniel Rodrigues\\n\\nDate of service: 12/10/2024\\n\\nDate Received: 12/16/2024\\n\\n# Claim Payment Breakdown\\n\\n|Total Amount Billed|$594.00|Processed 12/18/2024|\\n|---|---|---|\\n|Plan Discount|$417.40|Processed 12/18/2024|\\n|Plan Paid|$173.60|Processed 12/18/2024|\\n|Your Total Amount Owed|$3.00|Not Marked As Paid|\\n\\n# Claim Provided Services\\n\\n|Provided Service|Amount Billed|Plan Discount|Plan Paid|Copay|Coinsurance|Deductible|Non-Covered|\\n|---|---|---|---|---|---|---|---|\\n|12/10/2024|$20.25|$17.25|$0.00|$0.00|$0.00|$3.00|$0.00|\\n|12/10/2024|$573.75|$400.15|$173.60|$0.00|$0.00|$0.00|$0.00|\\n\\n# Service Description\\n\\nRoutine procedure for taking a blood sample from a vein.\\n\\nComprehensive, preventive medical assessment for an adult (40-64 years old): This typically includes age- and gender-appropriate history, exam, counseling; education and necessary lab work or imaging.\\n\\n# Claim Codes\\n\\nYou have received a discount for using a health care professional in your plan's network: The total amount you owe may include your cost share (deductible, copay and coinsurance) and any non-covered amount after you meet your benefit limit for a covered service. (PPOOO8)\\n\\nBenefits for this service have been applied to your deductible: The amount you owe shown on this statement is the amount you may owe your health care professional. (DEDOO3)\\n\\nYou have received a discount for using a health care professional in your plan's network. The total amount you owe may include your cost share (deductible, copay and coinsurance) and any non-covered amount after you meet your benefit limit for a covered service: (PPO0O8)\\n\\nClaim Details\", path=None, url=None, mimetype=None), image_resource=None, audio_resource=None, video_resource=None, text_template='{metadata_str}\\n\\n{content}')]"
      ]
     },
     "execution_count": 13,
     "metadata": {},
     "output_type": "execute_result"
    }
   ],
   "source": [
    "# get the llama-index markdown documents\n",
    "markdown_documents = result.get_markdown_documents(split_by_page=True)\n",
    "markdown_documents"
   ]
  },
  {
   "cell_type": "code",
   "execution_count": 18,
   "id": "d3684ef8",
   "metadata": {},
   "outputs": [
    {
     "data": {
      "text/plain": [
       "\"# Print Claim UnitedHealthcare\\n\\n# Livwell Healthcare\\n\\n# Current Status\\n\\nClaim Processed\\n\\nMedical Claim # EV26375473 In-Network\\n\\nPatient Name: Daniel Rodrigues\\n\\nDate of service: 12/10/2024\\n\\nDate Received: 12/16/2024\\n\\n# Claim Payment Breakdown\\n\\n|Total Amount Billed|$594.00|Processed 12/18/2024|\\n|---|---|---|\\n|Plan Discount|$417.40|Processed 12/18/2024|\\n|Plan Paid|$173.60|Processed 12/18/2024|\\n|Your Total Amount Owed|$3.00|Not Marked As Paid|\\n\\n# Claim Provided Services\\n\\n|Provided Service|Amount Billed|Plan Discount|Plan Paid|Copay|Coinsurance|Deductible|Non-Covered|\\n|---|---|---|---|---|---|---|---|\\n|12/10/2024|$20.25|$17.25|$0.00|$0.00|$0.00|$3.00|$0.00|\\n|12/10/2024|$573.75|$400.15|$173.60|$0.00|$0.00|$0.00|$0.00|\\n\\n# Service Description\\n\\nRoutine procedure for taking a blood sample from a vein.\\n\\nComprehensive, preventive medical assessment for an adult (40-64 years old): This typically includes age- and gender-appropriate history, exam, counseling; education and necessary lab work or imaging.\\n\\n# Claim Codes\\n\\nYou have received a discount for using a health care professional in your plan's network: The total amount you owe may include your cost share (deductible, copay and coinsurance) and any non-covered amount after you meet your benefit limit for a covered service. (PPOOO8)\\n\\nBenefits for this service have been applied to your deductible: The amount you owe shown on this statement is the amount you may owe your health care professional. (DEDOO3)\\n\\nYou have received a discount for using a health care professional in your plan's network. The total amount you owe may include your cost share (deductible, copay and coinsurance) and any non-covered amount after you meet your benefit limit for a covered service: (PPO0O8)\\n\\nClaim Details\""
      ]
     },
     "execution_count": 18,
     "metadata": {},
     "output_type": "execute_result"
    }
   ],
   "source": [
    "markdown_documents[0].text_resource.text"
   ]
  },
  {
   "cell_type": "markdown",
   "id": "a45a469b",
   "metadata": {},
   "source": [
    "# Print Claim UnitedHealthcare\n",
    "\n",
    "# Livwell Healthcare\n",
    "\n",
    "# Current Status\n",
    "\n",
    "Claim Processed\n",
    "\n",
    "Medical Claim # EV26375473 In-Network\n",
    "\n",
    "Patient Name: Daniel Rodrigues\n",
    "\n",
    "Date of service: 12/10/2024\n",
    "\n",
    "Date Received: 12/16/2024\n",
    "\n",
    "# Claim Payment Breakdown\n",
    "\n",
    "|Total Amount Billed|$594.00|Processed 12/18/2024|\n",
    "|---|---|---|\n",
    "|Plan Discount|$417.40|Processed 12/18/2024|\n",
    "|Plan Paid|$173.60|Processed 12/18/2024|\n",
    "|Your Total Amount Owed|$3.00|Not Marked As Paid|\n",
    "\n",
    "# Claim Provided Services\n",
    "\n",
    "|Provided Service|Amount Billed|Plan Discount|Plan Paid|Copay|Coinsurance|Deductible|Non-Covered|\n",
    "|---|---|---|---|---|---|---|---|\n",
    "|12/10/2024|$20.25|$17.25|$0.00|$0.00|$0.00|$3.00|$0.00|\n",
    "|12/10/2024|$573.75|$400.15|$173.60|$0.00|$0.00|$0.00|$0.00|\n",
    "\n",
    "# Service Description\n",
    "\n",
    "Routine procedure for taking a blood sample from a vein.\n",
    "\n",
    "Comprehensive, preventive medical assessment for an adult (40-64 years old): This typically includes age- and gender-appropriate history, exam, counseling; education and necessary lab work or imaging.\n",
    "\n",
    "# Claim Codes\n",
    "\n",
    "You have received a discount for using a health care professional in your plan's network: The total amount you owe may include your cost share (deductible, copay and coinsurance) and any non-covered amount after you meet your benefit limit for a covered service. (PPOOO8)\n",
    "\n",
    "Benefits for this service have been applied to your deductible: The amount you owe shown on this statement is the amount you may owe your health care professional. (DEDOO3)\n",
    "\n",
    "You have received a discount for using a health care professional in your plan's network. The total amount you owe may include your cost share (deductible, copay and coinsurance) and any non-covered amount after you meet your benefit limit for a covered service: (PPO0O8)\n",
    "\n",
    "Claim Details"
   ]
  },
  {
   "cell_type": "code",
   "execution_count": 14,
   "id": "80076e6f",
   "metadata": {},
   "outputs": [
    {
     "data": {
      "text/plain": [
       "[Document(id_='6a373bde-f6df-4ee8-9cfe-fe768877566e', embedding=None, metadata={'file_name': './test.pdf'}, excluded_embed_metadata_keys=[], excluded_llm_metadata_keys=[], relationships={}, metadata_template='{key}: {value}', metadata_separator='\\n', text_resource=MediaResource(embeddings=None, data=None, text=\"12/20/24,8.28 PM                                Print Claim UnitedHealthcare\\n  Livwell Healthcare                             Current Status\\n  Solutions                                     Claim Processed\\n   Medical Claim # EV26375473 In-Network            Submitted Under Review Processed\\n  Patient Name: Daniel Rodrigues\\n  Date of service:  12/10/2024\\n  Date Received: 12/16/2024\\n  Claim Payment Breakdown\\n  Total Amount Billed                       $594.00                      Processed   12/18/2024\\n  Plan Discount                             S417.40                      Processed   12/18/2024\\n  Plan Paid                                 S173.60                      Processed   12/18/2024\\n  Your Total Amount Owed $3.00                                               Not Marked As Paid\\n  Claim Provided Services\\n  Provided Service          Amount   Plan      Plan Paid Copay    Coinsurance Deductible Non-\\n                            Billed   Discount                                         Covered\\n  12/10/2024                S20.25   S17.25    SO.00     SO.00    SO.00     S3.00    SO.00\\n  Service Description:\\n  Routine procedure for taking a blood sample from a vein.\\n  Claim Codes:\\n  You have received a discount for using a health care professional in your plan's network: The total\\n  amount you owe may include your cost share (deductible, copay and coinsurance) andany non-covered\\n  amount after you meet your benefit limit for a covered service. (PPOOO8)\\n  Benefits for this service have been applied to your deductible: The amount you owe shown on this\\n  statement is the amount you may owe your health care professional. (DEDOO3)\\n  12/10/2024                8573.75  S400.15   S173.60   SO.00    SO.00     SO.00    SO.00\\n  Service Description:\\n  Comprehensive, preventive medical assessment for an adult (40-64 years old): This typically includes\\n  age- and gender-appropriate history, exam, counseling; education and necessary lab work or imaging:\\n  Claim Codes:\\n  You have received a discount for using a health care professional inʸᵒᵘʳplan's network. The total\\n  amount you owe may include your cost share (deductible, copay and coinsurance) and any non-covered\\n  amount after you meet your benefit limit for a covered service: (PPO0O8)\\nhttps:Ilmember uhc com/claims-and-accounts/claim-details/modal print-claim-details?claimKey-wOIB%2FvPZaFBVTBELS7q97h3 ViX9gUxoxa4XliMZZ%2FySjX. _  1/1\", path=None, url=None, mimetype=None), image_resource=None, audio_resource=None, video_resource=None, text_template='{metadata_str}\\n\\n{content}')]"
      ]
     },
     "execution_count": 14,
     "metadata": {},
     "output_type": "execute_result"
    }
   ],
   "source": [
    "# get the llama-index text documents\n",
    "text_documents = result.get_text_documents(split_by_page=False)\n",
    "text_documents"
   ]
  },
  {
   "cell_type": "code",
   "execution_count": 15,
   "id": "1dcc0dfd",
   "metadata": {},
   "outputs": [
    {
     "data": {
      "text/plain": [
       "[]"
      ]
     },
     "execution_count": 15,
     "metadata": {},
     "output_type": "execute_result"
    }
   ],
   "source": [
    "# get the image documents\n",
    "image_documents = result.get_image_documents(\n",
    "    include_screenshot_images=True,\n",
    "    include_object_images=False,\n",
    "    # Optional: download the images to a directory\n",
    "    # (default is to return the image bytes in ImageDocument objects)\n",
    "    image_download_dir=\"./images\",\n",
    ")\n",
    "image_documents"
   ]
  },
  {
   "cell_type": "code",
   "execution_count": 16,
   "id": "62e03d9e",
   "metadata": {},
   "outputs": [
    {
     "name": "stdout",
     "output_type": "stream",
     "text": [
      "12/20/24,8.28 PM                                Print Claim UnitedHealthcare\n",
      "  Livwell Healthcare                             Current Status\n",
      "  Solutions                                     Claim Processed\n",
      "   Medical Claim # EV26375473 In-Network            Submitted Under Review Processed\n",
      "  Patient Name: Daniel Rodrigues\n",
      "  Date of service:  12/10/2024\n",
      "  Date Received: 12/16/2024\n",
      "  Claim Payment Breakdown\n",
      "  Total Amount Billed                       $594.00                      Processed   12/18/2024\n",
      "  Plan Discount                             S417.40                      Processed   12/18/2024\n",
      "  Plan Paid                                 S173.60                      Processed   12/18/2024\n",
      "  Your Total Amount Owed $3.00                                               Not Marked As Paid\n",
      "  Claim Provided Services\n",
      "  Provided Service          Amount   Plan      Plan Paid Copay    Coinsurance Deductible Non-\n",
      "                            Billed   Discount                                         Covered\n",
      "  12/10/2024                S20.25   S17.25    SO.00     SO.00    SO.00     S3.00    SO.00\n",
      "  Service Description:\n",
      "  Routine procedure for taking a blood sample from a vein.\n",
      "  Claim Codes:\n",
      "  You have received a discount for using a health care professional in your plan's network: The total\n",
      "  amount you owe may include your cost share (deductible, copay and coinsurance) andany non-covered\n",
      "  amount after you meet your benefit limit for a covered service. (PPOOO8)\n",
      "  Benefits for this service have been applied to your deductible: The amount you owe shown on this\n",
      "  statement is the amount you may owe your health care professional. (DEDOO3)\n",
      "  12/10/2024                8573.75  S400.15   S173.60   SO.00    SO.00     SO.00    SO.00\n",
      "  Service Description:\n",
      "  Comprehensive, preventive medical assessment for an adult (40-64 years old): This typically includes\n",
      "  age- and gender-appropriate history, exam, counseling; education and necessary lab work or imaging:\n",
      "  Claim Codes:\n",
      "  You have received a discount for using a health care professional inʸᵒᵘʳplan's network. The total\n",
      "  amount you owe may include your cost share (deductible, copay and coinsurance) and any non-covered\n",
      "  amount after you meet your benefit limit for a covered service: (PPO0O8)\n",
      "https:Ilmember uhc com/claims-and-accounts/claim-details/modal print-claim-details?claimKey-wOIB%2FvPZaFBVTBELS7q97h3 ViX9gUxoxa4XliMZZ%2FySjX. _  1/1\n",
      "# Print Claim UnitedHealthcare\n",
      "\n",
      "# Livwell Healthcare\n",
      "\n",
      "# Current Status\n",
      "\n",
      "Claim Processed\n",
      "\n",
      "Medical Claim # EV26375473 In-Network\n",
      "\n",
      "Patient Name: Daniel Rodrigues\n",
      "\n",
      "Date of service: 12/10/2024\n",
      "\n",
      "Date Received: 12/16/2024\n",
      "\n",
      "# Claim Payment Breakdown\n",
      "\n",
      "|Total Amount Billed|$594.00|Processed 12/18/2024|\n",
      "|---|---|---|\n",
      "|Plan Discount|$417.40|Processed 12/18/2024|\n",
      "|Plan Paid|$173.60|Processed 12/18/2024|\n",
      "|Your Total Amount Owed|$3.00|Not Marked As Paid|\n",
      "\n",
      "# Claim Provided Services\n",
      "\n",
      "|Provided Service|Amount Billed|Plan Discount|Plan Paid|Copay|Coinsurance|Deductible|Non-Covered|\n",
      "|---|---|---|---|---|---|---|---|\n",
      "|12/10/2024|$20.25|$17.25|$0.00|$0.00|$0.00|$3.00|$0.00|\n",
      "|12/10/2024|$573.75|$400.15|$173.60|$0.00|$0.00|$0.00|$0.00|\n",
      "\n",
      "# Service Description\n",
      "\n",
      "Routine procedure for taking a blood sample from a vein.\n",
      "\n",
      "Comprehensive, preventive medical assessment for an adult (40-64 years old): This typically includes age- and gender-appropriate history, exam, counseling; education and necessary lab work or imaging.\n",
      "\n",
      "# Claim Codes\n",
      "\n",
      "You have received a discount for using a health care professional in your plan's network: The total amount you owe may include your cost share (deductible, copay and coinsurance) and any non-covered amount after you meet your benefit limit for a covered service. (PPOOO8)\n",
      "\n",
      "Benefits for this service have been applied to your deductible: The amount you owe shown on this statement is the amount you may owe your health care professional. (DEDOO3)\n",
      "\n",
      "You have received a discount for using a health care professional in your plan's network. The total amount you owe may include your cost share (deductible, copay and coinsurance) and any non-covered amount after you meet your benefit limit for a covered service: (PPO0O8)\n",
      "\n",
      "Claim Details\n",
      "[ImageItem(name='img_p0_1.png', height=2095.0, width=1270.0, x=0.0, y=0.0, original_width=1270, original_height=2095, type=None)]\n",
      "[]\n",
      "None\n"
     ]
    }
   ],
   "source": [
    "# Items will vary based on the parser configuration\n",
    "for page in result.pages:\n",
    "    print(page.text)\n",
    "    print(page.md)\n",
    "    print(page.images)\n",
    "    print(page.layout)\n",
    "    print(page.structuredData)"
   ]
  },
  {
   "cell_type": "markdown",
   "id": "53f649d9",
   "metadata": {},
   "source": [
    "# Parse and Query"
   ]
  },
  {
   "cell_type": "code",
   "execution_count": 8,
   "id": "7f2b4b5b",
   "metadata": {},
   "outputs": [
    {
     "name": "stdout",
     "output_type": "stream",
     "text": [
      "Started parsing the file under job_id 53dfc9f4-ce3b-46b3-a762-9d275d041f52\n"
     ]
    },
    {
     "name": "stderr",
     "output_type": "stream",
     "text": [
      "/workspaces/gen-ai/env/lib/python3.12/site-packages/openai/resources/beta/realtime/realtime.py:918: RuntimeWarning: coroutine 'LlamaParse.aload_data' was never awaited\n",
      "  class AsyncRealtimeInputAudioBufferResource(BaseAsyncRealtimeConnectionResource):\n",
      "RuntimeWarning: Enable tracemalloc to get the object allocation traceback\n",
      "Retrying llama_index.embeddings.openai.base.OpenAIEmbedding._get_text_embeddings.<locals>._retryable_get_embeddings in 1.0 seconds as it raised RateLimitError: Error code: 429 - {'error': {'message': 'You exceeded your current quota, please check your plan and billing details. For more information on this error, read the docs: https://platform.openai.com/docs/guides/error-codes/api-errors.', 'type': 'insufficient_quota', 'param': None, 'code': 'insufficient_quota'}}.\n"
     ]
    },
    {
     "ename": "RateLimitError",
     "evalue": "Error code: 429 - {'error': {'message': 'You exceeded your current quota, please check your plan and billing details. For more information on this error, read the docs: https://platform.openai.com/docs/guides/error-codes/api-errors.', 'type': 'insufficient_quota', 'param': None, 'code': 'insufficient_quota'}}",
     "output_type": "error",
     "traceback": [
      "\u001b[31m---------------------------------------------------------------------------\u001b[39m",
      "\u001b[31mRateLimitError\u001b[39m                            Traceback (most recent call last)",
      "\u001b[36mCell\u001b[39m\u001b[36m \u001b[39m\u001b[32mIn[8]\u001b[39m\u001b[32m, line 6\u001b[39m\n\u001b[32m      2\u001b[39m \u001b[38;5;28;01mfrom\u001b[39;00m\u001b[38;5;250m \u001b[39m\u001b[34;01mllama_cloud_services\u001b[39;00m\u001b[38;5;250m \u001b[39m\u001b[38;5;28;01mimport\u001b[39;00m LlamaParse\n\u001b[32m      5\u001b[39m documents = LlamaParse(result_type=\u001b[33m\"\u001b[39m\u001b[33mtext\u001b[39m\u001b[33m\"\u001b[39m, api_key=LLAMA_API_KEY).load_data(\u001b[33m\"\u001b[39m\u001b[33mtest.pdf\u001b[39m\u001b[33m\"\u001b[39m)\n\u001b[32m----> \u001b[39m\u001b[32m6\u001b[39m index = \u001b[43mVectorStoreIndex\u001b[49m\u001b[43m.\u001b[49m\u001b[43mfrom_documents\u001b[49m\u001b[43m(\u001b[49m\u001b[43mdocuments\u001b[49m\u001b[43m)\u001b[49m\n\u001b[32m      7\u001b[39m query_engine = index.as_query_engine()\n\u001b[32m      8\u001b[39m response = query_engine.query(\u001b[33m\"\u001b[39m\u001b[33mHow much is the discount?\u001b[39m\u001b[33m\"\u001b[39m)\n",
      "\u001b[36mFile \u001b[39m\u001b[32m/workspaces/gen-ai/env/lib/python3.12/site-packages/llama_index/core/indices/base.py:119\u001b[39m, in \u001b[36mBaseIndex.from_documents\u001b[39m\u001b[34m(cls, documents, storage_context, show_progress, callback_manager, transformations, **kwargs)\u001b[39m\n\u001b[32m    110\u001b[39m     docstore.set_document_hash(doc.get_doc_id(), doc.hash)\n\u001b[32m    112\u001b[39m nodes = run_transformations(\n\u001b[32m    113\u001b[39m     documents,  \u001b[38;5;66;03m# type: ignore\u001b[39;00m\n\u001b[32m    114\u001b[39m     transformations,\n\u001b[32m    115\u001b[39m     show_progress=show_progress,\n\u001b[32m    116\u001b[39m     **kwargs,\n\u001b[32m    117\u001b[39m )\n\u001b[32m--> \u001b[39m\u001b[32m119\u001b[39m \u001b[38;5;28;01mreturn\u001b[39;00m \u001b[38;5;28;43mcls\u001b[39;49m\u001b[43m(\u001b[49m\n\u001b[32m    120\u001b[39m \u001b[43m    \u001b[49m\u001b[43mnodes\u001b[49m\u001b[43m=\u001b[49m\u001b[43mnodes\u001b[49m\u001b[43m,\u001b[49m\n\u001b[32m    121\u001b[39m \u001b[43m    \u001b[49m\u001b[43mstorage_context\u001b[49m\u001b[43m=\u001b[49m\u001b[43mstorage_context\u001b[49m\u001b[43m,\u001b[49m\n\u001b[32m    122\u001b[39m \u001b[43m    \u001b[49m\u001b[43mcallback_manager\u001b[49m\u001b[43m=\u001b[49m\u001b[43mcallback_manager\u001b[49m\u001b[43m,\u001b[49m\n\u001b[32m    123\u001b[39m \u001b[43m    \u001b[49m\u001b[43mshow_progress\u001b[49m\u001b[43m=\u001b[49m\u001b[43mshow_progress\u001b[49m\u001b[43m,\u001b[49m\n\u001b[32m    124\u001b[39m \u001b[43m    \u001b[49m\u001b[43mtransformations\u001b[49m\u001b[43m=\u001b[49m\u001b[43mtransformations\u001b[49m\u001b[43m,\u001b[49m\n\u001b[32m    125\u001b[39m \u001b[43m    \u001b[49m\u001b[43m*\u001b[49m\u001b[43m*\u001b[49m\u001b[43mkwargs\u001b[49m\u001b[43m,\u001b[49m\n\u001b[32m    126\u001b[39m \u001b[43m\u001b[49m\u001b[43m)\u001b[49m\n",
      "\u001b[36mFile \u001b[39m\u001b[32m/workspaces/gen-ai/env/lib/python3.12/site-packages/llama_index/core/indices/vector_store/base.py:76\u001b[39m, in \u001b[36mVectorStoreIndex.__init__\u001b[39m\u001b[34m(self, nodes, use_async, store_nodes_override, embed_model, insert_batch_size, objects, index_struct, storage_context, callback_manager, transformations, show_progress, **kwargs)\u001b[39m\n\u001b[32m     69\u001b[39m \u001b[38;5;28mself\u001b[39m._embed_model = (\n\u001b[32m     70\u001b[39m     resolve_embed_model(embed_model, callback_manager=callback_manager)\n\u001b[32m     71\u001b[39m     \u001b[38;5;28;01mif\u001b[39;00m embed_model\n\u001b[32m     72\u001b[39m     \u001b[38;5;28;01melse\u001b[39;00m Settings.embed_model\n\u001b[32m     73\u001b[39m )\n\u001b[32m     75\u001b[39m \u001b[38;5;28mself\u001b[39m._insert_batch_size = insert_batch_size\n\u001b[32m---> \u001b[39m\u001b[32m76\u001b[39m \u001b[38;5;28;43msuper\u001b[39;49m\u001b[43m(\u001b[49m\u001b[43m)\u001b[49m\u001b[43m.\u001b[49m\u001b[34;43m__init__\u001b[39;49m\u001b[43m(\u001b[49m\n\u001b[32m     77\u001b[39m \u001b[43m    \u001b[49m\u001b[43mnodes\u001b[49m\u001b[43m=\u001b[49m\u001b[43mnodes\u001b[49m\u001b[43m,\u001b[49m\n\u001b[32m     78\u001b[39m \u001b[43m    \u001b[49m\u001b[43mindex_struct\u001b[49m\u001b[43m=\u001b[49m\u001b[43mindex_struct\u001b[49m\u001b[43m,\u001b[49m\n\u001b[32m     79\u001b[39m \u001b[43m    \u001b[49m\u001b[43mstorage_context\u001b[49m\u001b[43m=\u001b[49m\u001b[43mstorage_context\u001b[49m\u001b[43m,\u001b[49m\n\u001b[32m     80\u001b[39m \u001b[43m    \u001b[49m\u001b[43mshow_progress\u001b[49m\u001b[43m=\u001b[49m\u001b[43mshow_progress\u001b[49m\u001b[43m,\u001b[49m\n\u001b[32m     81\u001b[39m \u001b[43m    \u001b[49m\u001b[43mobjects\u001b[49m\u001b[43m=\u001b[49m\u001b[43mobjects\u001b[49m\u001b[43m,\u001b[49m\n\u001b[32m     82\u001b[39m \u001b[43m    \u001b[49m\u001b[43mcallback_manager\u001b[49m\u001b[43m=\u001b[49m\u001b[43mcallback_manager\u001b[49m\u001b[43m,\u001b[49m\n\u001b[32m     83\u001b[39m \u001b[43m    \u001b[49m\u001b[43mtransformations\u001b[49m\u001b[43m=\u001b[49m\u001b[43mtransformations\u001b[49m\u001b[43m,\u001b[49m\n\u001b[32m     84\u001b[39m \u001b[43m    \u001b[49m\u001b[43m*\u001b[49m\u001b[43m*\u001b[49m\u001b[43mkwargs\u001b[49m\u001b[43m,\u001b[49m\n\u001b[32m     85\u001b[39m \u001b[43m\u001b[49m\u001b[43m)\u001b[49m\n",
      "\u001b[36mFile \u001b[39m\u001b[32m/workspaces/gen-ai/env/lib/python3.12/site-packages/llama_index/core/indices/base.py:77\u001b[39m, in \u001b[36mBaseIndex.__init__\u001b[39m\u001b[34m(self, nodes, objects, index_struct, storage_context, callback_manager, transformations, show_progress, **kwargs)\u001b[39m\n\u001b[32m     75\u001b[39m \u001b[38;5;28;01mif\u001b[39;00m index_struct \u001b[38;5;129;01mis\u001b[39;00m \u001b[38;5;28;01mNone\u001b[39;00m:\n\u001b[32m     76\u001b[39m     nodes = nodes \u001b[38;5;129;01mor\u001b[39;00m []\n\u001b[32m---> \u001b[39m\u001b[32m77\u001b[39m     index_struct = \u001b[38;5;28;43mself\u001b[39;49m\u001b[43m.\u001b[49m\u001b[43mbuild_index_from_nodes\u001b[49m\u001b[43m(\u001b[49m\n\u001b[32m     78\u001b[39m \u001b[43m        \u001b[49m\u001b[43mnodes\u001b[49m\u001b[43m \u001b[49m\u001b[43m+\u001b[49m\u001b[43m \u001b[49m\u001b[43mobjects\u001b[49m\u001b[43m,\u001b[49m\u001b[43m  \u001b[49m\u001b[38;5;66;43;03m# type: ignore\u001b[39;49;00m\n\u001b[32m     79\u001b[39m \u001b[43m        \u001b[49m\u001b[43m*\u001b[49m\u001b[43m*\u001b[49m\u001b[43mkwargs\u001b[49m\u001b[43m,\u001b[49m\u001b[43m  \u001b[49m\u001b[38;5;66;43;03m# type: ignore\u001b[39;49;00m\n\u001b[32m     80\u001b[39m \u001b[43m    \u001b[49m\u001b[43m)\u001b[49m\n\u001b[32m     81\u001b[39m \u001b[38;5;28mself\u001b[39m._index_struct = index_struct\n\u001b[32m     82\u001b[39m \u001b[38;5;28mself\u001b[39m._storage_context.index_store.add_index_struct(\u001b[38;5;28mself\u001b[39m._index_struct)\n",
      "\u001b[36mFile \u001b[39m\u001b[32m/workspaces/gen-ai/env/lib/python3.12/site-packages/llama_index/core/indices/vector_store/base.py:310\u001b[39m, in \u001b[36mVectorStoreIndex.build_index_from_nodes\u001b[39m\u001b[34m(self, nodes, **insert_kwargs)\u001b[39m\n\u001b[32m    307\u001b[39m \u001b[38;5;28;01mif\u001b[39;00m \u001b[38;5;28mlen\u001b[39m(content_nodes) != \u001b[38;5;28mlen\u001b[39m(nodes):\n\u001b[32m    308\u001b[39m     \u001b[38;5;28mprint\u001b[39m(\u001b[33m\"\u001b[39m\u001b[33mSome nodes are missing content, skipping them...\u001b[39m\u001b[33m\"\u001b[39m)\n\u001b[32m--> \u001b[39m\u001b[32m310\u001b[39m \u001b[38;5;28;01mreturn\u001b[39;00m \u001b[38;5;28;43mself\u001b[39;49m\u001b[43m.\u001b[49m\u001b[43m_build_index_from_nodes\u001b[49m\u001b[43m(\u001b[49m\u001b[43mcontent_nodes\u001b[49m\u001b[43m,\u001b[49m\u001b[43m \u001b[49m\u001b[43m*\u001b[49m\u001b[43m*\u001b[49m\u001b[43minsert_kwargs\u001b[49m\u001b[43m)\u001b[49m\n",
      "\u001b[36mFile \u001b[39m\u001b[32m/workspaces/gen-ai/env/lib/python3.12/site-packages/llama_index/core/indices/vector_store/base.py:279\u001b[39m, in \u001b[36mVectorStoreIndex._build_index_from_nodes\u001b[39m\u001b[34m(self, nodes, **insert_kwargs)\u001b[39m\n\u001b[32m    277\u001b[39m     run_async_tasks(tasks)\n\u001b[32m    278\u001b[39m \u001b[38;5;28;01melse\u001b[39;00m:\n\u001b[32m--> \u001b[39m\u001b[32m279\u001b[39m     \u001b[38;5;28;43mself\u001b[39;49m\u001b[43m.\u001b[49m\u001b[43m_add_nodes_to_index\u001b[49m\u001b[43m(\u001b[49m\n\u001b[32m    280\u001b[39m \u001b[43m        \u001b[49m\u001b[43mindex_struct\u001b[49m\u001b[43m,\u001b[49m\n\u001b[32m    281\u001b[39m \u001b[43m        \u001b[49m\u001b[43mnodes\u001b[49m\u001b[43m,\u001b[49m\n\u001b[32m    282\u001b[39m \u001b[43m        \u001b[49m\u001b[43mshow_progress\u001b[49m\u001b[43m=\u001b[49m\u001b[38;5;28;43mself\u001b[39;49m\u001b[43m.\u001b[49m\u001b[43m_show_progress\u001b[49m\u001b[43m,\u001b[49m\n\u001b[32m    283\u001b[39m \u001b[43m        \u001b[49m\u001b[43m*\u001b[49m\u001b[43m*\u001b[49m\u001b[43minsert_kwargs\u001b[49m\u001b[43m,\u001b[49m\n\u001b[32m    284\u001b[39m \u001b[43m    \u001b[49m\u001b[43m)\u001b[49m\n\u001b[32m    285\u001b[39m \u001b[38;5;28;01mreturn\u001b[39;00m index_struct\n",
      "\u001b[36mFile \u001b[39m\u001b[32m/workspaces/gen-ai/env/lib/python3.12/site-packages/llama_index/core/indices/vector_store/base.py:232\u001b[39m, in \u001b[36mVectorStoreIndex._add_nodes_to_index\u001b[39m\u001b[34m(self, index_struct, nodes, show_progress, **insert_kwargs)\u001b[39m\n\u001b[32m    229\u001b[39m     \u001b[38;5;28;01mreturn\u001b[39;00m\n\u001b[32m    231\u001b[39m \u001b[38;5;28;01mfor\u001b[39;00m nodes_batch \u001b[38;5;129;01min\u001b[39;00m iter_batch(nodes, \u001b[38;5;28mself\u001b[39m._insert_batch_size):\n\u001b[32m--> \u001b[39m\u001b[32m232\u001b[39m     nodes_batch = \u001b[38;5;28;43mself\u001b[39;49m\u001b[43m.\u001b[49m\u001b[43m_get_node_with_embedding\u001b[49m\u001b[43m(\u001b[49m\u001b[43mnodes_batch\u001b[49m\u001b[43m,\u001b[49m\u001b[43m \u001b[49m\u001b[43mshow_progress\u001b[49m\u001b[43m)\u001b[49m\n\u001b[32m    233\u001b[39m     new_ids = \u001b[38;5;28mself\u001b[39m._vector_store.add(nodes_batch, **insert_kwargs)\n\u001b[32m    235\u001b[39m     \u001b[38;5;28;01mif\u001b[39;00m \u001b[38;5;129;01mnot\u001b[39;00m \u001b[38;5;28mself\u001b[39m._vector_store.stores_text \u001b[38;5;129;01mor\u001b[39;00m \u001b[38;5;28mself\u001b[39m._store_nodes_override:\n\u001b[32m    236\u001b[39m         \u001b[38;5;66;03m# NOTE: if the vector store doesn't store text,\u001b[39;00m\n\u001b[32m    237\u001b[39m         \u001b[38;5;66;03m# we need to add the nodes to the index struct and document store\u001b[39;00m\n",
      "\u001b[36mFile \u001b[39m\u001b[32m/workspaces/gen-ai/env/lib/python3.12/site-packages/llama_index/core/indices/vector_store/base.py:139\u001b[39m, in \u001b[36mVectorStoreIndex._get_node_with_embedding\u001b[39m\u001b[34m(self, nodes, show_progress)\u001b[39m\n\u001b[32m    127\u001b[39m \u001b[38;5;28;01mdef\u001b[39;00m\u001b[38;5;250m \u001b[39m\u001b[34m_get_node_with_embedding\u001b[39m(\n\u001b[32m    128\u001b[39m     \u001b[38;5;28mself\u001b[39m,\n\u001b[32m    129\u001b[39m     nodes: Sequence[BaseNode],\n\u001b[32m    130\u001b[39m     show_progress: \u001b[38;5;28mbool\u001b[39m = \u001b[38;5;28;01mFalse\u001b[39;00m,\n\u001b[32m    131\u001b[39m ) -> List[BaseNode]:\n\u001b[32m    132\u001b[39m \u001b[38;5;250m    \u001b[39m\u001b[33;03m\"\"\"\u001b[39;00m\n\u001b[32m    133\u001b[39m \u001b[33;03m    Get tuples of id, node, and embedding.\u001b[39;00m\n\u001b[32m    134\u001b[39m \n\u001b[32m   (...)\u001b[39m\u001b[32m    137\u001b[39m \n\u001b[32m    138\u001b[39m \u001b[33;03m    \"\"\"\u001b[39;00m\n\u001b[32m--> \u001b[39m\u001b[32m139\u001b[39m     id_to_embed_map = \u001b[43membed_nodes\u001b[49m\u001b[43m(\u001b[49m\n\u001b[32m    140\u001b[39m \u001b[43m        \u001b[49m\u001b[43mnodes\u001b[49m\u001b[43m,\u001b[49m\u001b[43m \u001b[49m\u001b[38;5;28;43mself\u001b[39;49m\u001b[43m.\u001b[49m\u001b[43m_embed_model\u001b[49m\u001b[43m,\u001b[49m\u001b[43m \u001b[49m\u001b[43mshow_progress\u001b[49m\u001b[43m=\u001b[49m\u001b[43mshow_progress\u001b[49m\n\u001b[32m    141\u001b[39m \u001b[43m    \u001b[49m\u001b[43m)\u001b[49m\n\u001b[32m    143\u001b[39m     results = []\n\u001b[32m    144\u001b[39m     \u001b[38;5;28;01mfor\u001b[39;00m node \u001b[38;5;129;01min\u001b[39;00m nodes:\n",
      "\u001b[36mFile \u001b[39m\u001b[32m/workspaces/gen-ai/env/lib/python3.12/site-packages/llama_index/core/indices/utils.py:160\u001b[39m, in \u001b[36membed_nodes\u001b[39m\u001b[34m(nodes, embed_model, show_progress)\u001b[39m\n\u001b[32m    157\u001b[39m     \u001b[38;5;28;01melse\u001b[39;00m:\n\u001b[32m    158\u001b[39m         id_to_embed_map[node.node_id] = node.embedding\n\u001b[32m--> \u001b[39m\u001b[32m160\u001b[39m new_embeddings = \u001b[43membed_model\u001b[49m\u001b[43m.\u001b[49m\u001b[43mget_text_embedding_batch\u001b[49m\u001b[43m(\u001b[49m\n\u001b[32m    161\u001b[39m \u001b[43m    \u001b[49m\u001b[43mtexts_to_embed\u001b[49m\u001b[43m,\u001b[49m\u001b[43m \u001b[49m\u001b[43mshow_progress\u001b[49m\u001b[43m=\u001b[49m\u001b[43mshow_progress\u001b[49m\n\u001b[32m    162\u001b[39m \u001b[43m\u001b[49m\u001b[43m)\u001b[49m\n\u001b[32m    164\u001b[39m \u001b[38;5;28;01mfor\u001b[39;00m new_id, text_embedding \u001b[38;5;129;01min\u001b[39;00m \u001b[38;5;28mzip\u001b[39m(ids_to_embed, new_embeddings):\n\u001b[32m    165\u001b[39m     id_to_embed_map[new_id] = text_embedding\n",
      "\u001b[36mFile \u001b[39m\u001b[32m/workspaces/gen-ai/env/lib/python3.12/site-packages/llama_index/core/instrumentation/dispatcher.py:322\u001b[39m, in \u001b[36mDispatcher.span.<locals>.wrapper\u001b[39m\u001b[34m(func, instance, args, kwargs)\u001b[39m\n\u001b[32m    319\u001b[39m             _logger.debug(\u001b[33mf\u001b[39m\u001b[33m\"\u001b[39m\u001b[33mFailed to reset active_span_id: \u001b[39m\u001b[38;5;132;01m{\u001b[39;00me\u001b[38;5;132;01m}\u001b[39;00m\u001b[33m\"\u001b[39m)\n\u001b[32m    321\u001b[39m \u001b[38;5;28;01mtry\u001b[39;00m:\n\u001b[32m--> \u001b[39m\u001b[32m322\u001b[39m     result = \u001b[43mfunc\u001b[49m\u001b[43m(\u001b[49m\u001b[43m*\u001b[49m\u001b[43margs\u001b[49m\u001b[43m,\u001b[49m\u001b[43m \u001b[49m\u001b[43m*\u001b[49m\u001b[43m*\u001b[49m\u001b[43mkwargs\u001b[49m\u001b[43m)\u001b[49m\n\u001b[32m    323\u001b[39m     \u001b[38;5;28;01mif\u001b[39;00m \u001b[38;5;28misinstance\u001b[39m(result, asyncio.Future):\n\u001b[32m    324\u001b[39m         \u001b[38;5;66;03m# If the result is a Future, wrap it\u001b[39;00m\n\u001b[32m    325\u001b[39m         new_future = asyncio.ensure_future(result)\n",
      "\u001b[36mFile \u001b[39m\u001b[32m/workspaces/gen-ai/env/lib/python3.12/site-packages/llama_index/core/base/embeddings/base.py:335\u001b[39m, in \u001b[36mBaseEmbedding.get_text_embedding_batch\u001b[39m\u001b[34m(self, texts, show_progress, **kwargs)\u001b[39m\n\u001b[32m    326\u001b[39m dispatcher.event(\n\u001b[32m    327\u001b[39m     EmbeddingStartEvent(\n\u001b[32m    328\u001b[39m         model_dict=model_dict,\n\u001b[32m    329\u001b[39m     )\n\u001b[32m    330\u001b[39m )\n\u001b[32m    331\u001b[39m \u001b[38;5;28;01mwith\u001b[39;00m \u001b[38;5;28mself\u001b[39m.callback_manager.event(\n\u001b[32m    332\u001b[39m     CBEventType.EMBEDDING,\n\u001b[32m    333\u001b[39m     payload={EventPayload.SERIALIZED: \u001b[38;5;28mself\u001b[39m.to_dict()},\n\u001b[32m    334\u001b[39m ) \u001b[38;5;28;01mas\u001b[39;00m event:\n\u001b[32m--> \u001b[39m\u001b[32m335\u001b[39m     embeddings = \u001b[38;5;28;43mself\u001b[39;49m\u001b[43m.\u001b[49m\u001b[43m_get_text_embeddings\u001b[49m\u001b[43m(\u001b[49m\u001b[43mcur_batch\u001b[49m\u001b[43m)\u001b[49m\n\u001b[32m    336\u001b[39m     result_embeddings.extend(embeddings)\n\u001b[32m    337\u001b[39m     event.on_end(\n\u001b[32m    338\u001b[39m         payload={\n\u001b[32m    339\u001b[39m             EventPayload.CHUNKS: cur_batch,\n\u001b[32m    340\u001b[39m             EventPayload.EMBEDDINGS: embeddings,\n\u001b[32m    341\u001b[39m         },\n\u001b[32m    342\u001b[39m     )\n",
      "\u001b[36mFile \u001b[39m\u001b[32m/workspaces/gen-ai/env/lib/python3.12/site-packages/llama_index/embeddings/openai/base.py:465\u001b[39m, in \u001b[36mOpenAIEmbedding._get_text_embeddings\u001b[39m\u001b[34m(self, texts)\u001b[39m\n\u001b[32m    456\u001b[39m \u001b[38;5;129m@retry_decorator\u001b[39m\n\u001b[32m    457\u001b[39m \u001b[38;5;28;01mdef\u001b[39;00m\u001b[38;5;250m \u001b[39m\u001b[34m_retryable_get_embeddings\u001b[39m():\n\u001b[32m    458\u001b[39m     \u001b[38;5;28;01mreturn\u001b[39;00m get_embeddings(\n\u001b[32m    459\u001b[39m         client,\n\u001b[32m    460\u001b[39m         texts,\n\u001b[32m    461\u001b[39m         engine=\u001b[38;5;28mself\u001b[39m._text_engine,\n\u001b[32m    462\u001b[39m         **\u001b[38;5;28mself\u001b[39m.additional_kwargs,\n\u001b[32m    463\u001b[39m     )\n\u001b[32m--> \u001b[39m\u001b[32m465\u001b[39m \u001b[38;5;28;01mreturn\u001b[39;00m \u001b[43m_retryable_get_embeddings\u001b[49m\u001b[43m(\u001b[49m\u001b[43m)\u001b[49m\n",
      "\u001b[36mFile \u001b[39m\u001b[32m/workspaces/gen-ai/env/lib/python3.12/site-packages/tenacity/__init__.py:338\u001b[39m, in \u001b[36mBaseRetrying.wraps.<locals>.wrapped_f\u001b[39m\u001b[34m(*args, **kw)\u001b[39m\n\u001b[32m    336\u001b[39m copy = \u001b[38;5;28mself\u001b[39m.copy()\n\u001b[32m    337\u001b[39m wrapped_f.statistics = copy.statistics  \u001b[38;5;66;03m# type: ignore[attr-defined]\u001b[39;00m\n\u001b[32m--> \u001b[39m\u001b[32m338\u001b[39m \u001b[38;5;28;01mreturn\u001b[39;00m \u001b[43mcopy\u001b[49m\u001b[43m(\u001b[49m\u001b[43mf\u001b[49m\u001b[43m,\u001b[49m\u001b[43m \u001b[49m\u001b[43m*\u001b[49m\u001b[43margs\u001b[49m\u001b[43m,\u001b[49m\u001b[43m \u001b[49m\u001b[43m*\u001b[49m\u001b[43m*\u001b[49m\u001b[43mkw\u001b[49m\u001b[43m)\u001b[49m\n",
      "\u001b[36mFile \u001b[39m\u001b[32m/workspaces/gen-ai/env/lib/python3.12/site-packages/tenacity/__init__.py:477\u001b[39m, in \u001b[36mRetrying.__call__\u001b[39m\u001b[34m(self, fn, *args, **kwargs)\u001b[39m\n\u001b[32m    475\u001b[39m retry_state = RetryCallState(retry_object=\u001b[38;5;28mself\u001b[39m, fn=fn, args=args, kwargs=kwargs)\n\u001b[32m    476\u001b[39m \u001b[38;5;28;01mwhile\u001b[39;00m \u001b[38;5;28;01mTrue\u001b[39;00m:\n\u001b[32m--> \u001b[39m\u001b[32m477\u001b[39m     do = \u001b[38;5;28;43mself\u001b[39;49m\u001b[43m.\u001b[49m\u001b[43miter\u001b[49m\u001b[43m(\u001b[49m\u001b[43mretry_state\u001b[49m\u001b[43m=\u001b[49m\u001b[43mretry_state\u001b[49m\u001b[43m)\u001b[49m\n\u001b[32m    478\u001b[39m     \u001b[38;5;28;01mif\u001b[39;00m \u001b[38;5;28misinstance\u001b[39m(do, DoAttempt):\n\u001b[32m    479\u001b[39m         \u001b[38;5;28;01mtry\u001b[39;00m:\n",
      "\u001b[36mFile \u001b[39m\u001b[32m/workspaces/gen-ai/env/lib/python3.12/site-packages/tenacity/__init__.py:378\u001b[39m, in \u001b[36mBaseRetrying.iter\u001b[39m\u001b[34m(self, retry_state)\u001b[39m\n\u001b[32m    376\u001b[39m result = \u001b[38;5;28;01mNone\u001b[39;00m\n\u001b[32m    377\u001b[39m \u001b[38;5;28;01mfor\u001b[39;00m action \u001b[38;5;129;01min\u001b[39;00m \u001b[38;5;28mself\u001b[39m.iter_state.actions:\n\u001b[32m--> \u001b[39m\u001b[32m378\u001b[39m     result = \u001b[43maction\u001b[49m\u001b[43m(\u001b[49m\u001b[43mretry_state\u001b[49m\u001b[43m)\u001b[49m\n\u001b[32m    379\u001b[39m \u001b[38;5;28;01mreturn\u001b[39;00m result\n",
      "\u001b[36mFile \u001b[39m\u001b[32m/workspaces/gen-ai/env/lib/python3.12/site-packages/tenacity/__init__.py:420\u001b[39m, in \u001b[36mBaseRetrying._post_stop_check_actions.<locals>.exc_check\u001b[39m\u001b[34m(rs)\u001b[39m\n\u001b[32m    418\u001b[39m retry_exc = \u001b[38;5;28mself\u001b[39m.retry_error_cls(fut)\n\u001b[32m    419\u001b[39m \u001b[38;5;28;01mif\u001b[39;00m \u001b[38;5;28mself\u001b[39m.reraise:\n\u001b[32m--> \u001b[39m\u001b[32m420\u001b[39m     \u001b[38;5;28;01mraise\u001b[39;00m \u001b[43mretry_exc\u001b[49m\u001b[43m.\u001b[49m\u001b[43mreraise\u001b[49m\u001b[43m(\u001b[49m\u001b[43m)\u001b[49m\n\u001b[32m    421\u001b[39m \u001b[38;5;28;01mraise\u001b[39;00m retry_exc \u001b[38;5;28;01mfrom\u001b[39;00m\u001b[38;5;250m \u001b[39m\u001b[34;01mfut\u001b[39;00m\u001b[34;01m.\u001b[39;00m\u001b[34;01mexception\u001b[39;00m()\n",
      "\u001b[36mFile \u001b[39m\u001b[32m/workspaces/gen-ai/env/lib/python3.12/site-packages/tenacity/__init__.py:187\u001b[39m, in \u001b[36mRetryError.reraise\u001b[39m\u001b[34m(self)\u001b[39m\n\u001b[32m    185\u001b[39m \u001b[38;5;28;01mdef\u001b[39;00m\u001b[38;5;250m \u001b[39m\u001b[34mreraise\u001b[39m(\u001b[38;5;28mself\u001b[39m) -> t.NoReturn:\n\u001b[32m    186\u001b[39m     \u001b[38;5;28;01mif\u001b[39;00m \u001b[38;5;28mself\u001b[39m.last_attempt.failed:\n\u001b[32m--> \u001b[39m\u001b[32m187\u001b[39m         \u001b[38;5;28;01mraise\u001b[39;00m \u001b[38;5;28;43mself\u001b[39;49m\u001b[43m.\u001b[49m\u001b[43mlast_attempt\u001b[49m\u001b[43m.\u001b[49m\u001b[43mresult\u001b[49m\u001b[43m(\u001b[49m\u001b[43m)\u001b[49m\n\u001b[32m    188\u001b[39m     \u001b[38;5;28;01mraise\u001b[39;00m \u001b[38;5;28mself\u001b[39m\n",
      "\u001b[36mFile \u001b[39m\u001b[32m~/.python/current/lib/python3.12/concurrent/futures/_base.py:449\u001b[39m, in \u001b[36mFuture.result\u001b[39m\u001b[34m(self, timeout)\u001b[39m\n\u001b[32m    447\u001b[39m     \u001b[38;5;28;01mraise\u001b[39;00m CancelledError()\n\u001b[32m    448\u001b[39m \u001b[38;5;28;01melif\u001b[39;00m \u001b[38;5;28mself\u001b[39m._state == FINISHED:\n\u001b[32m--> \u001b[39m\u001b[32m449\u001b[39m     \u001b[38;5;28;01mreturn\u001b[39;00m \u001b[38;5;28;43mself\u001b[39;49m\u001b[43m.\u001b[49m\u001b[43m__get_result\u001b[49m\u001b[43m(\u001b[49m\u001b[43m)\u001b[49m\n\u001b[32m    451\u001b[39m \u001b[38;5;28mself\u001b[39m._condition.wait(timeout)\n\u001b[32m    453\u001b[39m \u001b[38;5;28;01mif\u001b[39;00m \u001b[38;5;28mself\u001b[39m._state \u001b[38;5;129;01min\u001b[39;00m [CANCELLED, CANCELLED_AND_NOTIFIED]:\n",
      "\u001b[36mFile \u001b[39m\u001b[32m~/.python/current/lib/python3.12/concurrent/futures/_base.py:401\u001b[39m, in \u001b[36mFuture.__get_result\u001b[39m\u001b[34m(self)\u001b[39m\n\u001b[32m    399\u001b[39m \u001b[38;5;28;01mif\u001b[39;00m \u001b[38;5;28mself\u001b[39m._exception:\n\u001b[32m    400\u001b[39m     \u001b[38;5;28;01mtry\u001b[39;00m:\n\u001b[32m--> \u001b[39m\u001b[32m401\u001b[39m         \u001b[38;5;28;01mraise\u001b[39;00m \u001b[38;5;28mself\u001b[39m._exception\n\u001b[32m    402\u001b[39m     \u001b[38;5;28;01mfinally\u001b[39;00m:\n\u001b[32m    403\u001b[39m         \u001b[38;5;66;03m# Break a reference cycle with the exception in self._exception\u001b[39;00m\n\u001b[32m    404\u001b[39m         \u001b[38;5;28mself\u001b[39m = \u001b[38;5;28;01mNone\u001b[39;00m\n",
      "\u001b[36mFile \u001b[39m\u001b[32m/workspaces/gen-ai/env/lib/python3.12/site-packages/tenacity/__init__.py:480\u001b[39m, in \u001b[36mRetrying.__call__\u001b[39m\u001b[34m(self, fn, *args, **kwargs)\u001b[39m\n\u001b[32m    478\u001b[39m \u001b[38;5;28;01mif\u001b[39;00m \u001b[38;5;28misinstance\u001b[39m(do, DoAttempt):\n\u001b[32m    479\u001b[39m     \u001b[38;5;28;01mtry\u001b[39;00m:\n\u001b[32m--> \u001b[39m\u001b[32m480\u001b[39m         result = \u001b[43mfn\u001b[49m\u001b[43m(\u001b[49m\u001b[43m*\u001b[49m\u001b[43margs\u001b[49m\u001b[43m,\u001b[49m\u001b[43m \u001b[49m\u001b[43m*\u001b[49m\u001b[43m*\u001b[49m\u001b[43mkwargs\u001b[49m\u001b[43m)\u001b[49m\n\u001b[32m    481\u001b[39m     \u001b[38;5;28;01mexcept\u001b[39;00m \u001b[38;5;167;01mBaseException\u001b[39;00m:  \u001b[38;5;66;03m# noqa: B902\u001b[39;00m\n\u001b[32m    482\u001b[39m         retry_state.set_exception(sys.exc_info())  \u001b[38;5;66;03m# type: ignore[arg-type]\u001b[39;00m\n",
      "\u001b[36mFile \u001b[39m\u001b[32m/workspaces/gen-ai/env/lib/python3.12/site-packages/llama_index/embeddings/openai/base.py:458\u001b[39m, in \u001b[36mOpenAIEmbedding._get_text_embeddings.<locals>._retryable_get_embeddings\u001b[39m\u001b[34m()\u001b[39m\n\u001b[32m    456\u001b[39m \u001b[38;5;129m@retry_decorator\u001b[39m\n\u001b[32m    457\u001b[39m \u001b[38;5;28;01mdef\u001b[39;00m\u001b[38;5;250m \u001b[39m\u001b[34m_retryable_get_embeddings\u001b[39m():\n\u001b[32m--> \u001b[39m\u001b[32m458\u001b[39m     \u001b[38;5;28;01mreturn\u001b[39;00m \u001b[43mget_embeddings\u001b[49m\u001b[43m(\u001b[49m\n\u001b[32m    459\u001b[39m \u001b[43m        \u001b[49m\u001b[43mclient\u001b[49m\u001b[43m,\u001b[49m\n\u001b[32m    460\u001b[39m \u001b[43m        \u001b[49m\u001b[43mtexts\u001b[49m\u001b[43m,\u001b[49m\n\u001b[32m    461\u001b[39m \u001b[43m        \u001b[49m\u001b[43mengine\u001b[49m\u001b[43m=\u001b[49m\u001b[38;5;28;43mself\u001b[39;49m\u001b[43m.\u001b[49m\u001b[43m_text_engine\u001b[49m\u001b[43m,\u001b[49m\n\u001b[32m    462\u001b[39m \u001b[43m        \u001b[49m\u001b[43m*\u001b[49m\u001b[43m*\u001b[49m\u001b[38;5;28;43mself\u001b[39;49m\u001b[43m.\u001b[49m\u001b[43madditional_kwargs\u001b[49m\u001b[43m,\u001b[49m\n\u001b[32m    463\u001b[39m \u001b[43m    \u001b[49m\u001b[43m)\u001b[49m\n",
      "\u001b[36mFile \u001b[39m\u001b[32m/workspaces/gen-ai/env/lib/python3.12/site-packages/llama_index/embeddings/openai/base.py:169\u001b[39m, in \u001b[36mget_embeddings\u001b[39m\u001b[34m(client, list_of_text, engine, **kwargs)\u001b[39m\n\u001b[32m    165\u001b[39m \u001b[38;5;28;01massert\u001b[39;00m \u001b[38;5;28mlen\u001b[39m(list_of_text) <= \u001b[32m2048\u001b[39m, \u001b[33m\"\u001b[39m\u001b[33mThe batch size should not be larger than 2048.\u001b[39m\u001b[33m\"\u001b[39m\n\u001b[32m    167\u001b[39m list_of_text = [text.replace(\u001b[33m\"\u001b[39m\u001b[38;5;130;01m\\n\u001b[39;00m\u001b[33m\"\u001b[39m, \u001b[33m\"\u001b[39m\u001b[33m \u001b[39m\u001b[33m\"\u001b[39m) \u001b[38;5;28;01mfor\u001b[39;00m text \u001b[38;5;129;01min\u001b[39;00m list_of_text]\n\u001b[32m--> \u001b[39m\u001b[32m169\u001b[39m data = \u001b[43mclient\u001b[49m\u001b[43m.\u001b[49m\u001b[43membeddings\u001b[49m\u001b[43m.\u001b[49m\u001b[43mcreate\u001b[49m\u001b[43m(\u001b[49m\u001b[38;5;28;43minput\u001b[39;49m\u001b[43m=\u001b[49m\u001b[43mlist_of_text\u001b[49m\u001b[43m,\u001b[49m\u001b[43m \u001b[49m\u001b[43mmodel\u001b[49m\u001b[43m=\u001b[49m\u001b[43mengine\u001b[49m\u001b[43m,\u001b[49m\u001b[43m \u001b[49m\u001b[43m*\u001b[49m\u001b[43m*\u001b[49m\u001b[43mkwargs\u001b[49m\u001b[43m)\u001b[49m.data\n\u001b[32m    170\u001b[39m \u001b[38;5;28;01mreturn\u001b[39;00m [d.embedding \u001b[38;5;28;01mfor\u001b[39;00m d \u001b[38;5;129;01min\u001b[39;00m data]\n",
      "\u001b[36mFile \u001b[39m\u001b[32m/workspaces/gen-ai/env/lib/python3.12/site-packages/openai/resources/embeddings.py:128\u001b[39m, in \u001b[36mEmbeddings.create\u001b[39m\u001b[34m(self, input, model, dimensions, encoding_format, user, extra_headers, extra_query, extra_body, timeout)\u001b[39m\n\u001b[32m    122\u001b[39m             embedding.embedding = np.frombuffer(  \u001b[38;5;66;03m# type: ignore[no-untyped-call]\u001b[39;00m\n\u001b[32m    123\u001b[39m                 base64.b64decode(data), dtype=\u001b[33m\"\u001b[39m\u001b[33mfloat32\u001b[39m\u001b[33m\"\u001b[39m\n\u001b[32m    124\u001b[39m             ).tolist()\n\u001b[32m    126\u001b[39m     \u001b[38;5;28;01mreturn\u001b[39;00m obj\n\u001b[32m--> \u001b[39m\u001b[32m128\u001b[39m \u001b[38;5;28;01mreturn\u001b[39;00m \u001b[38;5;28;43mself\u001b[39;49m\u001b[43m.\u001b[49m\u001b[43m_post\u001b[49m\u001b[43m(\u001b[49m\n\u001b[32m    129\u001b[39m \u001b[43m    \u001b[49m\u001b[33;43m\"\u001b[39;49m\u001b[33;43m/embeddings\u001b[39;49m\u001b[33;43m\"\u001b[39;49m\u001b[43m,\u001b[49m\n\u001b[32m    130\u001b[39m \u001b[43m    \u001b[49m\u001b[43mbody\u001b[49m\u001b[43m=\u001b[49m\u001b[43mmaybe_transform\u001b[49m\u001b[43m(\u001b[49m\u001b[43mparams\u001b[49m\u001b[43m,\u001b[49m\u001b[43m \u001b[49m\u001b[43membedding_create_params\u001b[49m\u001b[43m.\u001b[49m\u001b[43mEmbeddingCreateParams\u001b[49m\u001b[43m)\u001b[49m\u001b[43m,\u001b[49m\n\u001b[32m    131\u001b[39m \u001b[43m    \u001b[49m\u001b[43moptions\u001b[49m\u001b[43m=\u001b[49m\u001b[43mmake_request_options\u001b[49m\u001b[43m(\u001b[49m\n\u001b[32m    132\u001b[39m \u001b[43m        \u001b[49m\u001b[43mextra_headers\u001b[49m\u001b[43m=\u001b[49m\u001b[43mextra_headers\u001b[49m\u001b[43m,\u001b[49m\n\u001b[32m    133\u001b[39m \u001b[43m        \u001b[49m\u001b[43mextra_query\u001b[49m\u001b[43m=\u001b[49m\u001b[43mextra_query\u001b[49m\u001b[43m,\u001b[49m\n\u001b[32m    134\u001b[39m \u001b[43m        \u001b[49m\u001b[43mextra_body\u001b[49m\u001b[43m=\u001b[49m\u001b[43mextra_body\u001b[49m\u001b[43m,\u001b[49m\n\u001b[32m    135\u001b[39m \u001b[43m        \u001b[49m\u001b[43mtimeout\u001b[49m\u001b[43m=\u001b[49m\u001b[43mtimeout\u001b[49m\u001b[43m,\u001b[49m\n\u001b[32m    136\u001b[39m \u001b[43m        \u001b[49m\u001b[43mpost_parser\u001b[49m\u001b[43m=\u001b[49m\u001b[43mparser\u001b[49m\u001b[43m,\u001b[49m\n\u001b[32m    137\u001b[39m \u001b[43m    \u001b[49m\u001b[43m)\u001b[49m\u001b[43m,\u001b[49m\n\u001b[32m    138\u001b[39m \u001b[43m    \u001b[49m\u001b[43mcast_to\u001b[49m\u001b[43m=\u001b[49m\u001b[43mCreateEmbeddingResponse\u001b[49m\u001b[43m,\u001b[49m\n\u001b[32m    139\u001b[39m \u001b[43m\u001b[49m\u001b[43m)\u001b[49m\n",
      "\u001b[36mFile \u001b[39m\u001b[32m/workspaces/gen-ai/env/lib/python3.12/site-packages/openai/_base_client.py:1239\u001b[39m, in \u001b[36mSyncAPIClient.post\u001b[39m\u001b[34m(self, path, cast_to, body, options, files, stream, stream_cls)\u001b[39m\n\u001b[32m   1225\u001b[39m \u001b[38;5;28;01mdef\u001b[39;00m\u001b[38;5;250m \u001b[39m\u001b[34mpost\u001b[39m(\n\u001b[32m   1226\u001b[39m     \u001b[38;5;28mself\u001b[39m,\n\u001b[32m   1227\u001b[39m     path: \u001b[38;5;28mstr\u001b[39m,\n\u001b[32m   (...)\u001b[39m\u001b[32m   1234\u001b[39m     stream_cls: \u001b[38;5;28mtype\u001b[39m[_StreamT] | \u001b[38;5;28;01mNone\u001b[39;00m = \u001b[38;5;28;01mNone\u001b[39;00m,\n\u001b[32m   1235\u001b[39m ) -> ResponseT | _StreamT:\n\u001b[32m   1236\u001b[39m     opts = FinalRequestOptions.construct(\n\u001b[32m   1237\u001b[39m         method=\u001b[33m\"\u001b[39m\u001b[33mpost\u001b[39m\u001b[33m\"\u001b[39m, url=path, json_data=body, files=to_httpx_files(files), **options\n\u001b[32m   1238\u001b[39m     )\n\u001b[32m-> \u001b[39m\u001b[32m1239\u001b[39m     \u001b[38;5;28;01mreturn\u001b[39;00m cast(ResponseT, \u001b[38;5;28;43mself\u001b[39;49m\u001b[43m.\u001b[49m\u001b[43mrequest\u001b[49m\u001b[43m(\u001b[49m\u001b[43mcast_to\u001b[49m\u001b[43m,\u001b[49m\u001b[43m \u001b[49m\u001b[43mopts\u001b[49m\u001b[43m,\u001b[49m\u001b[43m \u001b[49m\u001b[43mstream\u001b[49m\u001b[43m=\u001b[49m\u001b[43mstream\u001b[49m\u001b[43m,\u001b[49m\u001b[43m \u001b[49m\u001b[43mstream_cls\u001b[49m\u001b[43m=\u001b[49m\u001b[43mstream_cls\u001b[49m\u001b[43m)\u001b[49m)\n",
      "\u001b[36mFile \u001b[39m\u001b[32m/workspaces/gen-ai/env/lib/python3.12/site-packages/openai/_base_client.py:1034\u001b[39m, in \u001b[36mSyncAPIClient.request\u001b[39m\u001b[34m(self, cast_to, options, stream, stream_cls)\u001b[39m\n\u001b[32m   1031\u001b[39m             err.response.read()\n\u001b[32m   1033\u001b[39m         log.debug(\u001b[33m\"\u001b[39m\u001b[33mRe-raising status error\u001b[39m\u001b[33m\"\u001b[39m)\n\u001b[32m-> \u001b[39m\u001b[32m1034\u001b[39m         \u001b[38;5;28;01mraise\u001b[39;00m \u001b[38;5;28mself\u001b[39m._make_status_error_from_response(err.response) \u001b[38;5;28;01mfrom\u001b[39;00m\u001b[38;5;250m \u001b[39m\u001b[38;5;28;01mNone\u001b[39;00m\n\u001b[32m   1036\u001b[39m     \u001b[38;5;28;01mbreak\u001b[39;00m\n\u001b[32m   1038\u001b[39m \u001b[38;5;28;01massert\u001b[39;00m response \u001b[38;5;129;01mis\u001b[39;00m \u001b[38;5;129;01mnot\u001b[39;00m \u001b[38;5;28;01mNone\u001b[39;00m, \u001b[33m\"\u001b[39m\u001b[33mcould not resolve response (should never happen)\u001b[39m\u001b[33m\"\u001b[39m\n",
      "\u001b[31mRateLimitError\u001b[39m: Error code: 429 - {'error': {'message': 'You exceeded your current quota, please check your plan and billing details. For more information on this error, read the docs: https://platform.openai.com/docs/guides/error-codes/api-errors.', 'type': 'insufficient_quota', 'param': None, 'code': 'insufficient_quota'}}"
     ]
    }
   ],
   "source": [
    "from llama_index.core import VectorStoreIndex\n",
    "from llama_cloud_services import LlamaParse\n",
    "\n",
    "\n",
    "documents = LlamaParse(result_type=\"text\", api_key=LLAMA_API_KEY).load_data(\"test.pdf\")\n",
    "index = VectorStoreIndex.from_documents(documents)\n",
    "query_engine = index.as_query_engine()\n",
    "response = query_engine.query(\"How much is the discount?\")\n",
    "print(response)"
   ]
  }
 ],
 "metadata": {
  "kernelspec": {
   "display_name": "env",
   "language": "python",
   "name": "python3"
  },
  "language_info": {
   "codemirror_mode": {
    "name": "ipython",
    "version": 3
   },
   "file_extension": ".py",
   "mimetype": "text/x-python",
   "name": "python",
   "nbconvert_exporter": "python",
   "pygments_lexer": "ipython3",
   "version": "3.12.1"
  }
 },
 "nbformat": 4,
 "nbformat_minor": 5
}
