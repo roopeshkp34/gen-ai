{
 "cells": [
  {
   "cell_type": "markdown",
   "id": "3c14f0de",
   "metadata": {},
   "source": [
    "## Responses\n",
    "- Agentic API primitive\n"
   ]
  },
  {
   "cell_type": "code",
   "execution_count": 1,
   "id": "2c603e78",
   "metadata": {},
   "outputs": [],
   "source": [
    "import os\n",
    "OPEN_AI_KEY = os.environ.get(\"OPENAI_API_KEY\")\n",
    "OPEN_AI_MODEL = \"gpt-4o-mini\""
   ]
  },
  {
   "cell_type": "code",
   "execution_count": 2,
   "id": "cb8a976e",
   "metadata": {},
   "outputs": [],
   "source": [
    "from openai import  OpenAI\n",
    "import requests, json\n",
    "\n",
    "\n",
    "client = OpenAI(api_key=OPEN_AI_KEY)"
   ]
  },
  {
   "cell_type": "code",
   "execution_count": 3,
   "id": "70b3023a",
   "metadata": {},
   "outputs": [
    {
     "name": "stdout",
     "output_type": "stream",
     "text": [
      "Response(id='resp_681b4ad452cc819184c636a88ae64b9806793b882af0054d', created_at=1746619092.0, error=None, incomplete_details=None, instructions=None, metadata={}, model='gpt-4o-mini-2024-07-18', object='response', output=[ResponseOutputMessage(id='msg_681b4ad61d0081919ea63f2367dfdaa906793b882af0054d', content=[ResponseOutputText(annotations=[], text='As the moonlight shimmered on the meadow, a gentle unicorn named Lila spread her wings and soared into the starry sky, spreading dreams of magic and wonder to every child sleeping below.', type='output_text')], role='assistant', status='completed', type='message')], parallel_tool_calls=True, temperature=1.0, tool_choice='auto', tools=[], top_p=1.0, max_output_tokens=None, previous_response_id=None, reasoning=Reasoning(effort=None, generate_summary=None, summary=None), service_tier='default', status='completed', text=ResponseTextConfig(format=ResponseFormatText(type='text')), truncation='disabled', usage=ResponseUsage(input_tokens=18, input_tokens_details=InputTokensDetails(cached_tokens=0), output_tokens=40, output_tokens_details=OutputTokensDetails(reasoning_tokens=0), total_tokens=58), user=None, store=True)\n"
     ]
    }
   ],
   "source": [
    "response = client.responses.create(\n",
    "    model=OPEN_AI_MODEL,\n",
    "    input=[{\n",
    "        \"role\": \"user\",\n",
    "        \"content\": \"Write a one-sentence bedtime story about a unicorn.\"\n",
    "    }]\n",
    ")\n",
    "print(response)"
   ]
  },
  {
   "cell_type": "code",
   "execution_count": 4,
   "id": "11786172",
   "metadata": {},
   "outputs": [
    {
     "name": "stderr",
     "output_type": "stream",
     "text": [
      "/tmp/ipykernel_7910/3202056457.py:1: PydanticDeprecatedSince20: The `dict` method is deprecated; use `model_dump` instead. Deprecated in Pydantic V2.0 to be removed in V3.0. See Pydantic V2 Migration Guide at https://errors.pydantic.dev/2.11/migration/\n",
      "  response.dict()\n"
     ]
    },
    {
     "data": {
      "text/plain": [
       "{'id': 'resp_681b4ad452cc819184c636a88ae64b9806793b882af0054d',\n",
       " 'created_at': 1746619092.0,\n",
       " 'error': None,\n",
       " 'incomplete_details': None,\n",
       " 'instructions': None,\n",
       " 'metadata': {},\n",
       " 'model': 'gpt-4o-mini-2024-07-18',\n",
       " 'object': 'response',\n",
       " 'output': [{'id': 'msg_681b4ad61d0081919ea63f2367dfdaa906793b882af0054d',\n",
       "   'content': [{'annotations': [],\n",
       "     'text': 'As the moonlight shimmered on the meadow, a gentle unicorn named Lila spread her wings and soared into the starry sky, spreading dreams of magic and wonder to every child sleeping below.',\n",
       "     'type': 'output_text'}],\n",
       "   'role': 'assistant',\n",
       "   'status': 'completed',\n",
       "   'type': 'message'}],\n",
       " 'parallel_tool_calls': True,\n",
       " 'temperature': 1.0,\n",
       " 'tool_choice': 'auto',\n",
       " 'tools': [],\n",
       " 'top_p': 1.0,\n",
       " 'max_output_tokens': None,\n",
       " 'previous_response_id': None,\n",
       " 'reasoning': {'effort': None, 'generate_summary': None, 'summary': None},\n",
       " 'service_tier': 'default',\n",
       " 'status': 'completed',\n",
       " 'text': {'format': {'type': 'text'}},\n",
       " 'truncation': 'disabled',\n",
       " 'usage': {'input_tokens': 18,\n",
       "  'input_tokens_details': {'cached_tokens': 0},\n",
       "  'output_tokens': 40,\n",
       "  'output_tokens_details': {'reasoning_tokens': 0},\n",
       "  'total_tokens': 58},\n",
       " 'user': None,\n",
       " 'store': True}"
      ]
     },
     "execution_count": 4,
     "metadata": {},
     "output_type": "execute_result"
    }
   ],
   "source": [
    "response.dict()"
   ]
  },
  {
   "cell_type": "markdown",
   "id": "5dfbc84a",
   "metadata": {},
   "source": [
    "### Tool call"
   ]
  },
  {
   "cell_type": "code",
   "execution_count": 5,
   "id": "e8e4f045",
   "metadata": {},
   "outputs": [],
   "source": [
    "def get_weather(latitude, longitude):\n",
    "    response = requests.get(f\"https://api.open-meteo.com/v1/forecast?latitude={latitude}&longitude={longitude}&current=temperature_2m,wind_speed_10m&hourly=temperature_2m,relative_humidity_2m,wind_speed_10m\")\n",
    "    data = response.json()\n",
    "    print(data)\n",
    "    return data['current']['temperature_2m']\n",
    "\n",
    "# print(get_weather(latitude=\"9.9312\", longitude=\"76.2673\"))"
   ]
  },
  {
   "cell_type": "code",
   "execution_count": 6,
   "id": "e18bd86d",
   "metadata": {},
   "outputs": [],
   "source": [
    "\n",
    "tools = [{\n",
    "    \"type\": \"function\",\n",
    "    \"name\": \"get_weather\",\n",
    "    \"description\": \"Get current temperature for provided coordinates in celcius.\",\n",
    "    \"parameters\": {\n",
    "        \"type\": \"object\",\n",
    "        \"properties\": {\n",
    "            \"latitude\": {\"type\": \"number\"},\n",
    "            \"longitude\": {\"type\": \"number\"}\n",
    "        },\n",
    "        \"required\": [\"latitude\", \"longitude\"],\n",
    "        \"additionalProperties\": False\n",
    "    },\n",
    "    \"strict\": True\n",
    "}]\n",
    "\n",
    "user_query = [{\"role\": \"user\", \"content\": \"What is the weather like in Kochi today?\"}]\n",
    "weather_response = client.responses.create(\n",
    "    model=OPEN_AI_MODEL,\n",
    "    input=user_query,\n",
    "    tools=tools,\n",
    ")"
   ]
  },
  {
   "cell_type": "code",
   "execution_count": 7,
   "id": "70179f69",
   "metadata": {},
   "outputs": [
    {
     "data": {
      "text/plain": [
       "[ResponseFunctionToolCall(arguments='{\"latitude\":9.9312,\"longitude\":76.2673}', call_id='call_cX10XbZX3V6Nhk0pzHBjRWKY', name='get_weather', type='function_call', id='fc_681b4ae3f7888191884ac473b4319fea0c214cec41f68beb', status='completed')]"
      ]
     },
     "execution_count": 7,
     "metadata": {},
     "output_type": "execute_result"
    }
   ],
   "source": [
    "weather_response.output"
   ]
  },
  {
   "cell_type": "code",
   "execution_count": 8,
   "id": "e6f89d17",
   "metadata": {},
   "outputs": [],
   "source": [
    "tool_call = weather_response.output[0]\n",
    "args = json.loads(tool_call.arguments)"
   ]
  },
  {
   "cell_type": "code",
   "execution_count": 9,
   "id": "fa0e5859",
   "metadata": {},
   "outputs": [
    {
     "name": "stdout",
     "output_type": "stream",
     "text": [
      "{'latitude': 9.875, 'longitude': 76.25, 'generationtime_ms': 0.438690185546875, 'utc_offset_seconds': 0, 'timezone': 'GMT', 'timezone_abbreviation': 'GMT', 'elevation': 6.0, 'current_units': {'time': 'iso8601', 'interval': 'seconds', 'temperature_2m': '°C', 'wind_speed_10m': 'km/h'}, 'current': {'time': '2025-05-07T11:45', 'interval': 900, 'temperature_2m': 31.4, 'wind_speed_10m': 14.8}, 'hourly_units': {'time': 'iso8601', 'temperature_2m': '°C', 'relative_humidity_2m': '%', 'wind_speed_10m': 'km/h'}, 'hourly': {'time': ['2025-05-07T00:00', '2025-05-07T01:00', '2025-05-07T02:00', '2025-05-07T03:00', '2025-05-07T04:00', '2025-05-07T05:00', '2025-05-07T06:00', '2025-05-07T07:00', '2025-05-07T08:00', '2025-05-07T09:00', '2025-05-07T10:00', '2025-05-07T11:00', '2025-05-07T12:00', '2025-05-07T13:00', '2025-05-07T14:00', '2025-05-07T15:00', '2025-05-07T16:00', '2025-05-07T17:00', '2025-05-07T18:00', '2025-05-07T19:00', '2025-05-07T20:00', '2025-05-07T21:00', '2025-05-07T22:00', '2025-05-07T23:00', '2025-05-08T00:00', '2025-05-08T01:00', '2025-05-08T02:00', '2025-05-08T03:00', '2025-05-08T04:00', '2025-05-08T05:00', '2025-05-08T06:00', '2025-05-08T07:00', '2025-05-08T08:00', '2025-05-08T09:00', '2025-05-08T10:00', '2025-05-08T11:00', '2025-05-08T12:00', '2025-05-08T13:00', '2025-05-08T14:00', '2025-05-08T15:00', '2025-05-08T16:00', '2025-05-08T17:00', '2025-05-08T18:00', '2025-05-08T19:00', '2025-05-08T20:00', '2025-05-08T21:00', '2025-05-08T22:00', '2025-05-08T23:00', '2025-05-09T00:00', '2025-05-09T01:00', '2025-05-09T02:00', '2025-05-09T03:00', '2025-05-09T04:00', '2025-05-09T05:00', '2025-05-09T06:00', '2025-05-09T07:00', '2025-05-09T08:00', '2025-05-09T09:00', '2025-05-09T10:00', '2025-05-09T11:00', '2025-05-09T12:00', '2025-05-09T13:00', '2025-05-09T14:00', '2025-05-09T15:00', '2025-05-09T16:00', '2025-05-09T17:00', '2025-05-09T18:00', '2025-05-09T19:00', '2025-05-09T20:00', '2025-05-09T21:00', '2025-05-09T22:00', '2025-05-09T23:00', '2025-05-10T00:00', '2025-05-10T01:00', '2025-05-10T02:00', '2025-05-10T03:00', '2025-05-10T04:00', '2025-05-10T05:00', '2025-05-10T06:00', '2025-05-10T07:00', '2025-05-10T08:00', '2025-05-10T09:00', '2025-05-10T10:00', '2025-05-10T11:00', '2025-05-10T12:00', '2025-05-10T13:00', '2025-05-10T14:00', '2025-05-10T15:00', '2025-05-10T16:00', '2025-05-10T17:00', '2025-05-10T18:00', '2025-05-10T19:00', '2025-05-10T20:00', '2025-05-10T21:00', '2025-05-10T22:00', '2025-05-10T23:00', '2025-05-11T00:00', '2025-05-11T01:00', '2025-05-11T02:00', '2025-05-11T03:00', '2025-05-11T04:00', '2025-05-11T05:00', '2025-05-11T06:00', '2025-05-11T07:00', '2025-05-11T08:00', '2025-05-11T09:00', '2025-05-11T10:00', '2025-05-11T11:00', '2025-05-11T12:00', '2025-05-11T13:00', '2025-05-11T14:00', '2025-05-11T15:00', '2025-05-11T16:00', '2025-05-11T17:00', '2025-05-11T18:00', '2025-05-11T19:00', '2025-05-11T20:00', '2025-05-11T21:00', '2025-05-11T22:00', '2025-05-11T23:00', '2025-05-12T00:00', '2025-05-12T01:00', '2025-05-12T02:00', '2025-05-12T03:00', '2025-05-12T04:00', '2025-05-12T05:00', '2025-05-12T06:00', '2025-05-12T07:00', '2025-05-12T08:00', '2025-05-12T09:00', '2025-05-12T10:00', '2025-05-12T11:00', '2025-05-12T12:00', '2025-05-12T13:00', '2025-05-12T14:00', '2025-05-12T15:00', '2025-05-12T16:00', '2025-05-12T17:00', '2025-05-12T18:00', '2025-05-12T19:00', '2025-05-12T20:00', '2025-05-12T21:00', '2025-05-12T22:00', '2025-05-12T23:00', '2025-05-13T00:00', '2025-05-13T01:00', '2025-05-13T02:00', '2025-05-13T03:00', '2025-05-13T04:00', '2025-05-13T05:00', '2025-05-13T06:00', '2025-05-13T07:00', '2025-05-13T08:00', '2025-05-13T09:00', '2025-05-13T10:00', '2025-05-13T11:00', '2025-05-13T12:00', '2025-05-13T13:00', '2025-05-13T14:00', '2025-05-13T15:00', '2025-05-13T16:00', '2025-05-13T17:00', '2025-05-13T18:00', '2025-05-13T19:00', '2025-05-13T20:00', '2025-05-13T21:00', '2025-05-13T22:00', '2025-05-13T23:00'], 'temperature_2m': [27.4, 27.3, 27.9, 29.3, 30.6, 31.6, 32.5, 32.5, 32.1, 32.3, 32.2, 31.8, 31.2, 30.8, 30.5, 30.2, 29.9, 29.6, 29.5, 29.1, 28.8, 28.4, 28.0, 27.7, 27.8, 27.8, 28.3, 29.4, 30.3, 31.3, 32.1, 32.4, 32.4, 32.1, 31.8, 31.3, 30.8, 30.2, 29.9, 29.7, 29.6, 29.5, 29.3, 29.1, 28.8, 28.4, 28.1, 27.9, 27.7, 27.6, 28.0, 29.2, 30.6, 31.8, 32.6, 32.8, 32.4, 32.1, 31.6, 31.2, 30.6, 30.1, 30.0, 29.9, 29.7, 29.5, 29.4, 29.3, 29.0, 28.5, 28.0, 27.5, 27.4, 27.4, 28.0, 29.5, 30.7, 31.6, 31.8, 31.8, 31.8, 31.8, 31.5, 31.0, 30.4, 30.0, 29.6, 29.2, 28.8, 28.5, 28.1, 27.7, 27.2, 26.9, 26.5, 26.1, 26.1, 26.6, 27.5, 28.5, 29.8, 31.3, 32.3, 32.5, 32.2, 31.8, 31.5, 31.1, 30.7, 30.4, 30.2, 29.9, 29.6, 29.3, 29.0, 28.8, 28.6, 28.4, 28.1, 27.7, 27.6, 28.0, 28.6, 29.4, 30.5, 31.8, 32.7, 32.9, 32.7, 32.5, 32.1, 31.6, 31.1, 30.6, 30.1, 29.7, 29.3, 29.0, 28.8, 28.5, 28.3, 28.1, 27.8, 27.6, 27.6, 28.1, 28.8, 29.6, 30.6, 31.7, 32.4, 32.6, 32.4, 32.0, 31.5, 30.8, 30.2, 29.8, 29.5, 29.3, 29.2, 29.2, 29.1, 28.9, 28.6, 28.4, 28.2, 28.0], 'relative_humidity_2m': [85, 86, 81, 74, 68, 64, 63, 64, 67, 66, 65, 63, 66, 69, 71, 75, 78, 81, 78, 79, 82, 83, 85, 87, 87, 85, 82, 76, 71, 67, 64, 64, 64, 65, 66, 67, 71, 73, 75, 76, 77, 78, 79, 81, 83, 86, 87, 87, 87, 87, 83, 76, 70, 64, 62, 61, 65, 65, 68, 68, 71, 74, 74, 75, 77, 80, 80, 80, 82, 86, 88, 89, 86, 83, 80, 74, 67, 63, 64, 66, 66, 67, 68, 67, 67, 68, 69, 71, 74, 77, 80, 82, 84, 85, 86, 85, 84, 80, 76, 71, 67, 62, 60, 61, 63, 66, 68, 69, 71, 73, 74, 76, 78, 79, 80, 80, 80, 80, 82, 86, 87, 85, 81, 77, 72, 65, 61, 61, 64, 66, 68, 71, 73, 75, 77, 79, 80, 82, 83, 85, 87, 88, 89, 89, 88, 84, 80, 75, 71, 68, 66, 66, 68, 70, 72, 75, 77, 79, 80, 81, 81, 81, 81, 82, 85, 86, 87, 87], 'wind_speed_10m': [3.3, 4.1, 3.8, 2.7, 5.3, 8.4, 14.1, 14.5, 14.9, 16.2, 17.0, 16.6, 14.4, 10.1, 6.6, 4.2, 3.3, 4.7, 7.3, 6.1, 4.1, 4.2, 5.4, 2.6, 1.0, 2.4, 2.4, 5.6, 6.4, 7.4, 10.8, 13.7, 16.2, 17.7, 18.8, 18.2, 16.2, 13.4, 11.9, 9.7, 9.2, 8.8, 7.4, 5.9, 5.4, 5.5, 5.2, 5.1, 5.6, 6.6, 7.0, 7.9, 7.2, 6.5, 9.4, 13.9, 17.0, 19.5, 21.1, 20.9, 18.2, 14.5, 10.6, 7.2, 4.2, 3.1, 2.1, 1.5, 2.7, 4.1, 5.5, 6.4, 6.8, 5.0, 3.4, 1.8, 2.9, 7.2, 11.5, 13.7, 15.5, 17.6, 19.4, 19.4, 18.0, 15.1, 10.9, 7.4, 5.0, 3.9, 3.6, 4.2, 4.9, 5.6, 6.2, 6.9, 7.8, 9.0, 10.3, 9.5, 4.7, 1.8, 7.6, 10.9, 13.5, 15.0, 16.0, 16.3, 15.5, 13.4, 10.5, 8.0, 6.1, 4.7, 3.6, 3.1, 3.1, 3.1, 2.5, 3.1, 4.5, 5.3, 5.6, 4.7, 1.5, 5.1, 8.7, 13.0, 14.9, 16.4, 16.9, 16.5, 15.8, 14.6, 13.0, 11.4, 10.2, 8.8, 6.6, 3.4, 3.9, 6.8, 7.2, 6.5, 5.8, 6.5, 7.6, 6.9, 3.8, 6.3, 11.2, 14.7, 17.2, 18.5, 18.4, 17.4, 15.6, 12.5, 8.4, 4.8, 2.6, 2.9, 3.9, 4.8, 5.5, 5.8, 5.6, 5.5]}}\n"
     ]
    },
    {
     "data": {
      "text/plain": [
       "31.4"
      ]
     },
     "execution_count": 9,
     "metadata": {},
     "output_type": "execute_result"
    }
   ],
   "source": [
    "result = globals()[tool_call.name](**args)\n",
    "result\n"
   ]
  },
  {
   "cell_type": "code",
   "execution_count": null,
   "id": "4be8f6f0",
   "metadata": {},
   "outputs": [],
   "source": []
  }
 ],
 "metadata": {
  "kernelspec": {
   "display_name": "env",
   "language": "python",
   "name": "python3"
  },
  "language_info": {
   "codemirror_mode": {
    "name": "ipython",
    "version": 3
   },
   "file_extension": ".py",
   "mimetype": "text/x-python",
   "name": "python",
   "nbconvert_exporter": "python",
   "pygments_lexer": "ipython3",
   "version": "3.12.1"
  }
 },
 "nbformat": 4,
 "nbformat_minor": 5
}
