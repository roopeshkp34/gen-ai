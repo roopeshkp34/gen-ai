{
 "cells": [
  {
   "cell_type": "markdown",
   "id": "3c14f0de",
   "metadata": {},
   "source": [
    "## Responses\n",
    "- Agentic API primitive\n"
   ]
  },
  {
   "cell_type": "code",
   "execution_count": null,
   "id": "2c603e78",
   "metadata": {},
   "outputs": [],
   "source": [
    "import os\n",
    "OPEN_AI_KEY = os.environ.get(\"OPEN_AI_KEY\")\n",
    "OPEN_AI_MODEL = \"gpt-4o-mini\"\n",
    "OPEN_AI_KEY"
   ]
  },
  {
   "cell_type": "code",
   "execution_count": 2,
   "id": "cb8a976e",
   "metadata": {},
   "outputs": [],
   "source": [
    "from openai import  OpenAI\n",
    "\n",
    "client = OpenAI(api_key=OPEN_AI_KEY)"
   ]
  },
  {
   "cell_type": "code",
   "execution_count": 4,
   "id": "70b3023a",
   "metadata": {},
   "outputs": [
    {
     "name": "stdout",
     "output_type": "stream",
     "text": [
      "Response(id='resp_68145fecd37c8191ac7664cdb2ffcf940e8bf3fc58a61824', created_at=1746165740.0, error=None, incomplete_details=None, instructions=None, metadata={}, model='gpt-4o-mini-2024-07-18', object='response', output=[ResponseOutputMessage(id='msg_68145fed05e881918e270ab36a6720c90e8bf3fc58a61824', content=[ResponseOutputText(annotations=[], text='As the moonlight danced on the meadow, a gentle unicorn twinkled its horn, filling the air with sparkles of dreams that wrapped the sleepy world in a warm blanket of magic.', type='output_text')], role='assistant', status='completed', type='message')], parallel_tool_calls=True, temperature=1.0, tool_choice='auto', tools=[], top_p=1.0, max_output_tokens=None, previous_response_id=None, reasoning=Reasoning(effort=None, generate_summary=None, summary=None), service_tier='default', status='completed', text=ResponseTextConfig(format=ResponseFormatText(type='text')), truncation='disabled', usage=ResponseUsage(input_tokens=18, input_tokens_details=InputTokensDetails(cached_tokens=0), output_tokens=39, output_tokens_details=OutputTokensDetails(reasoning_tokens=0), total_tokens=57), user=None, store=True)\n"
     ]
    }
   ],
   "source": [
    "response = client.responses.create(\n",
    "    model=OPEN_AI_MODEL,\n",
    "    input=[{\n",
    "        \"role\": \"user\",\n",
    "        \"content\": \"Write a one-sentence bedtime story about a unicorn.\"\n",
    "    }]\n",
    ")\n",
    "print(response)"
   ]
  },
  {
   "cell_type": "code",
   "execution_count": 5,
   "id": "11786172",
   "metadata": {},
   "outputs": [
    {
     "name": "stderr",
     "output_type": "stream",
     "text": [
      "/var/folders/8n/_s1kql216xv46xk8p1mndnfc0000gn/T/ipykernel_58129/3202056457.py:1: PydanticDeprecatedSince20: The `dict` method is deprecated; use `model_dump` instead. Deprecated in Pydantic V2.0 to be removed in V3.0. See Pydantic V2 Migration Guide at https://errors.pydantic.dev/2.11/migration/\n",
      "  response.dict()\n"
     ]
    },
    {
     "data": {
      "text/plain": [
       "{'id': 'resp_68145fecd37c8191ac7664cdb2ffcf940e8bf3fc58a61824',\n",
       " 'created_at': 1746165740.0,\n",
       " 'error': None,\n",
       " 'incomplete_details': None,\n",
       " 'instructions': None,\n",
       " 'metadata': {},\n",
       " 'model': 'gpt-4o-mini-2024-07-18',\n",
       " 'object': 'response',\n",
       " 'output': [{'id': 'msg_68145fed05e881918e270ab36a6720c90e8bf3fc58a61824',\n",
       "   'content': [{'annotations': [],\n",
       "     'text': 'As the moonlight danced on the meadow, a gentle unicorn twinkled its horn, filling the air with sparkles of dreams that wrapped the sleepy world in a warm blanket of magic.',\n",
       "     'type': 'output_text'}],\n",
       "   'role': 'assistant',\n",
       "   'status': 'completed',\n",
       "   'type': 'message'}],\n",
       " 'parallel_tool_calls': True,\n",
       " 'temperature': 1.0,\n",
       " 'tool_choice': 'auto',\n",
       " 'tools': [],\n",
       " 'top_p': 1.0,\n",
       " 'max_output_tokens': None,\n",
       " 'previous_response_id': None,\n",
       " 'reasoning': {'effort': None, 'generate_summary': None, 'summary': None},\n",
       " 'service_tier': 'default',\n",
       " 'status': 'completed',\n",
       " 'text': {'format': {'type': 'text'}},\n",
       " 'truncation': 'disabled',\n",
       " 'usage': {'input_tokens': 18,\n",
       "  'input_tokens_details': {'cached_tokens': 0},\n",
       "  'output_tokens': 39,\n",
       "  'output_tokens_details': {'reasoning_tokens': 0},\n",
       "  'total_tokens': 57},\n",
       " 'user': None,\n",
       " 'store': True}"
      ]
     },
     "execution_count": 5,
     "metadata": {},
     "output_type": "execute_result"
    }
   ],
   "source": [
    "response.dict()"
   ]
  },
  {
   "cell_type": "code",
   "execution_count": null,
   "id": "5dfbc84a",
   "metadata": {},
   "outputs": [],
   "source": []
  }
 ],
 "metadata": {
  "kernelspec": {
   "display_name": "env",
   "language": "python",
   "name": "python3"
  },
  "language_info": {
   "codemirror_mode": {
    "name": "ipython",
    "version": 3
   },
   "file_extension": ".py",
   "mimetype": "text/x-python",
   "name": "python",
   "nbconvert_exporter": "python",
   "pygments_lexer": "ipython3",
   "version": "3.9.6"
  }
 },
 "nbformat": 4,
 "nbformat_minor": 5
}
