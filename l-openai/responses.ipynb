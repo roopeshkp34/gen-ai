{
 "cells": [
  {
   "cell_type": "markdown",
   "id": "3c14f0de",
   "metadata": {},
   "source": [
    "## Responses\n",
    "- Agentic API primitive\n"
   ]
  },
  {
   "cell_type": "code",
   "execution_count": 5,
   "id": "2c603e78",
   "metadata": {},
   "outputs": [],
   "source": [
    "import os\n",
    "OPEN_AI_KEY = os.environ.get(\"OPEN_AI_KEY\")\n",
    "OPEN_AI_MODEL = \"gpt-4o-mini\""
   ]
  },
  {
   "cell_type": "code",
   "execution_count": 2,
   "id": "cb8a976e",
   "metadata": {},
   "outputs": [],
   "source": [
    "from openai import  OpenAI\n",
    "import requests, json\n",
    "\n",
    "\n",
    "client = OpenAI(api_key=OPEN_AI_KEY)"
   ]
  },
  {
   "cell_type": "code",
   "execution_count": 3,
   "id": "70b3023a",
   "metadata": {},
   "outputs": [
    {
     "name": "stdout",
     "output_type": "stream",
     "text": [
      "Response(id='resp_68185bf38ed4819185b9e137596c009a04442f47ac3cfe13', created_at=1746426867.0, error=None, incomplete_details=None, instructions=None, metadata={}, model='gpt-4o-mini-2024-07-18', object='response', output=[ResponseOutputMessage(id='msg_68185bf3ad088191974f07101f8053bf04442f47ac3cfe13', content=[ResponseOutputText(annotations=[], text='As the moonlight shimmered over the enchanted meadow, a brave unicorn named Luna soared across the sky, spreading dreams of magic and joy to all the sleeping creatures below.', type='output_text')], role='assistant', status='completed', type='message')], parallel_tool_calls=True, temperature=1.0, tool_choice='auto', tools=[], top_p=1.0, max_output_tokens=None, previous_response_id=None, reasoning=Reasoning(effort=None, generate_summary=None, summary=None), service_tier='default', status='completed', text=ResponseTextConfig(format=ResponseFormatText(type='text')), truncation='disabled', usage=ResponseUsage(input_tokens=18, input_tokens_details=InputTokensDetails(cached_tokens=0), output_tokens=35, output_tokens_details=OutputTokensDetails(reasoning_tokens=0), total_tokens=53), user=None, store=True)\n"
     ]
    }
   ],
   "source": [
    "response = client.responses.create(\n",
    "    model=OPEN_AI_MODEL,\n",
    "    input=[{\n",
    "        \"role\": \"user\",\n",
    "        \"content\": \"Write a one-sentence bedtime story about a unicorn.\"\n",
    "    }]\n",
    ")\n",
    "print(response)"
   ]
  },
  {
   "cell_type": "code",
   "execution_count": 4,
   "id": "11786172",
   "metadata": {},
   "outputs": [
    {
     "name": "stderr",
     "output_type": "stream",
     "text": [
      "/tmp/ipykernel_12298/3202056457.py:1: PydanticDeprecatedSince20: The `dict` method is deprecated; use `model_dump` instead. Deprecated in Pydantic V2.0 to be removed in V3.0. See Pydantic V2 Migration Guide at https://errors.pydantic.dev/2.11/migration/\n",
      "  response.dict()\n"
     ]
    },
    {
     "data": {
      "text/plain": [
       "{'id': 'resp_68185bf38ed4819185b9e137596c009a04442f47ac3cfe13',\n",
       " 'created_at': 1746426867.0,\n",
       " 'error': None,\n",
       " 'incomplete_details': None,\n",
       " 'instructions': None,\n",
       " 'metadata': {},\n",
       " 'model': 'gpt-4o-mini-2024-07-18',\n",
       " 'object': 'response',\n",
       " 'output': [{'id': 'msg_68185bf3ad088191974f07101f8053bf04442f47ac3cfe13',\n",
       "   'content': [{'annotations': [],\n",
       "     'text': 'As the moonlight shimmered over the enchanted meadow, a brave unicorn named Luna soared across the sky, spreading dreams of magic and joy to all the sleeping creatures below.',\n",
       "     'type': 'output_text'}],\n",
       "   'role': 'assistant',\n",
       "   'status': 'completed',\n",
       "   'type': 'message'}],\n",
       " 'parallel_tool_calls': True,\n",
       " 'temperature': 1.0,\n",
       " 'tool_choice': 'auto',\n",
       " 'tools': [],\n",
       " 'top_p': 1.0,\n",
       " 'max_output_tokens': None,\n",
       " 'previous_response_id': None,\n",
       " 'reasoning': {'effort': None, 'generate_summary': None, 'summary': None},\n",
       " 'service_tier': 'default',\n",
       " 'status': 'completed',\n",
       " 'text': {'format': {'type': 'text'}},\n",
       " 'truncation': 'disabled',\n",
       " 'usage': {'input_tokens': 18,\n",
       "  'input_tokens_details': {'cached_tokens': 0},\n",
       "  'output_tokens': 35,\n",
       "  'output_tokens_details': {'reasoning_tokens': 0},\n",
       "  'total_tokens': 53},\n",
       " 'user': None,\n",
       " 'store': True}"
      ]
     },
     "execution_count": 4,
     "metadata": {},
     "output_type": "execute_result"
    }
   ],
   "source": [
    "response.dict()"
   ]
  },
  {
   "cell_type": "markdown",
   "id": "5dfbc84a",
   "metadata": {},
   "source": [
    "### Tool call"
   ]
  },
  {
   "cell_type": "code",
   "execution_count": 3,
   "id": "e8e4f045",
   "metadata": {},
   "outputs": [],
   "source": [
    "def get_weather(latitude, longitude):\n",
    "    response = requests.get(f\"https://api.open-meteo.com/v1/forecast?latitude={latitude}&longitude={longitude}&current=temperature_2m,wind_speed_10m&hourly=temperature_2m,relative_humidity_2m,wind_speed_10m\")\n",
    "    data = response.json()\n",
    "    print(data)\n",
    "    return data['current']['temperature_2m']\n",
    "\n",
    "# print(get_weather(latitude=\"9.9312\", longitude=\"76.2673\"))"
   ]
  },
  {
   "cell_type": "code",
   "execution_count": 4,
   "id": "e18bd86d",
   "metadata": {},
   "outputs": [],
   "source": [
    "\n",
    "tools = [{\n",
    "    \"type\": \"function\",\n",
    "    \"name\": \"get_weather\",\n",
    "    \"description\": \"Get current temperature for provided coordinates in celcius.\",\n",
    "    \"parameters\": {\n",
    "        \"type\": \"object\",\n",
    "        \"properties\": {\n",
    "            \"latitude\": {\"type\": \"number\"},\n",
    "            \"longitude\": {\"type\": \"number\"}\n",
    "        },\n",
    "        \"required\": [\"latitude\", \"longitude\"],\n",
    "        \"additionalProperties\": False\n",
    "    },\n",
    "    \"strict\": True\n",
    "}]\n",
    "\n",
    "user_query = [{\"role\": \"user\", \"content\": \"What is the weather like in Kochi today?\"}]\n",
    "weather_response = client.responses.create(\n",
    "    model=OPEN_AI_MODEL,\n",
    "    input=user_query,\n",
    "    tools=tools,\n",
    ")"
   ]
  },
  {
   "cell_type": "code",
   "execution_count": 5,
   "id": "70179f69",
   "metadata": {},
   "outputs": [
    {
     "data": {
      "text/plain": [
       "[ResponseFunctionToolCall(arguments='{\"latitude\":9.9312,\"longitude\":76.2673}', call_id='call_xMz1qxuUDNRZZNUGS8XJZs8k', name='get_weather', type='function_call', id='fc_681856e05d6c81918baca69e2760f71808b47c6ed1e7f7f3', status='completed')]"
      ]
     },
     "execution_count": 5,
     "metadata": {},
     "output_type": "execute_result"
    }
   ],
   "source": [
    "weather_response.output"
   ]
  },
  {
   "cell_type": "code",
   "execution_count": 11,
   "id": "e6f89d17",
   "metadata": {},
   "outputs": [],
   "source": [
    "tool_call = weather_response.output[0]\n",
    "args = json.loads(tool_call.arguments)"
   ]
  },
  {
   "cell_type": "code",
   "execution_count": 12,
   "id": "fa0e5859",
   "metadata": {},
   "outputs": [
    {
     "name": "stdout",
     "output_type": "stream",
     "text": [
      "{'latitude': 9.875, 'longitude': 76.25, 'generationtime_ms': 0.05125999450683594, 'utc_offset_seconds': 0, 'timezone': 'GMT', 'timezone_abbreviation': 'GMT', 'elevation': 6.0, 'current_units': {'time': 'iso8601', 'interval': 'seconds', 'temperature_2m': '°C', 'wind_speed_10m': 'km/h'}, 'current': {'time': '2025-05-05T06:15', 'interval': 900, 'temperature_2m': 32.1, 'wind_speed_10m': 11.7}, 'hourly_units': {'time': 'iso8601', 'temperature_2m': '°C', 'relative_humidity_2m': '%', 'wind_speed_10m': 'km/h'}, 'hourly': {'time': ['2025-05-05T00:00', '2025-05-05T01:00', '2025-05-05T02:00', '2025-05-05T03:00', '2025-05-05T04:00', '2025-05-05T05:00', '2025-05-05T06:00', '2025-05-05T07:00', '2025-05-05T08:00', '2025-05-05T09:00', '2025-05-05T10:00', '2025-05-05T11:00', '2025-05-05T12:00', '2025-05-05T13:00', '2025-05-05T14:00', '2025-05-05T15:00', '2025-05-05T16:00', '2025-05-05T17:00', '2025-05-05T18:00', '2025-05-05T19:00', '2025-05-05T20:00', '2025-05-05T21:00', '2025-05-05T22:00', '2025-05-05T23:00', '2025-05-06T00:00', '2025-05-06T01:00', '2025-05-06T02:00', '2025-05-06T03:00', '2025-05-06T04:00', '2025-05-06T05:00', '2025-05-06T06:00', '2025-05-06T07:00', '2025-05-06T08:00', '2025-05-06T09:00', '2025-05-06T10:00', '2025-05-06T11:00', '2025-05-06T12:00', '2025-05-06T13:00', '2025-05-06T14:00', '2025-05-06T15:00', '2025-05-06T16:00', '2025-05-06T17:00', '2025-05-06T18:00', '2025-05-06T19:00', '2025-05-06T20:00', '2025-05-06T21:00', '2025-05-06T22:00', '2025-05-06T23:00', '2025-05-07T00:00', '2025-05-07T01:00', '2025-05-07T02:00', '2025-05-07T03:00', '2025-05-07T04:00', '2025-05-07T05:00', '2025-05-07T06:00', '2025-05-07T07:00', '2025-05-07T08:00', '2025-05-07T09:00', '2025-05-07T10:00', '2025-05-07T11:00', '2025-05-07T12:00', '2025-05-07T13:00', '2025-05-07T14:00', '2025-05-07T15:00', '2025-05-07T16:00', '2025-05-07T17:00', '2025-05-07T18:00', '2025-05-07T19:00', '2025-05-07T20:00', '2025-05-07T21:00', '2025-05-07T22:00', '2025-05-07T23:00', '2025-05-08T00:00', '2025-05-08T01:00', '2025-05-08T02:00', '2025-05-08T03:00', '2025-05-08T04:00', '2025-05-08T05:00', '2025-05-08T06:00', '2025-05-08T07:00', '2025-05-08T08:00', '2025-05-08T09:00', '2025-05-08T10:00', '2025-05-08T11:00', '2025-05-08T12:00', '2025-05-08T13:00', '2025-05-08T14:00', '2025-05-08T15:00', '2025-05-08T16:00', '2025-05-08T17:00', '2025-05-08T18:00', '2025-05-08T19:00', '2025-05-08T20:00', '2025-05-08T21:00', '2025-05-08T22:00', '2025-05-08T23:00', '2025-05-09T00:00', '2025-05-09T01:00', '2025-05-09T02:00', '2025-05-09T03:00', '2025-05-09T04:00', '2025-05-09T05:00', '2025-05-09T06:00', '2025-05-09T07:00', '2025-05-09T08:00', '2025-05-09T09:00', '2025-05-09T10:00', '2025-05-09T11:00', '2025-05-09T12:00', '2025-05-09T13:00', '2025-05-09T14:00', '2025-05-09T15:00', '2025-05-09T16:00', '2025-05-09T17:00', '2025-05-09T18:00', '2025-05-09T19:00', '2025-05-09T20:00', '2025-05-09T21:00', '2025-05-09T22:00', '2025-05-09T23:00', '2025-05-10T00:00', '2025-05-10T01:00', '2025-05-10T02:00', '2025-05-10T03:00', '2025-05-10T04:00', '2025-05-10T05:00', '2025-05-10T06:00', '2025-05-10T07:00', '2025-05-10T08:00', '2025-05-10T09:00', '2025-05-10T10:00', '2025-05-10T11:00', '2025-05-10T12:00', '2025-05-10T13:00', '2025-05-10T14:00', '2025-05-10T15:00', '2025-05-10T16:00', '2025-05-10T17:00', '2025-05-10T18:00', '2025-05-10T19:00', '2025-05-10T20:00', '2025-05-10T21:00', '2025-05-10T22:00', '2025-05-10T23:00', '2025-05-11T00:00', '2025-05-11T01:00', '2025-05-11T02:00', '2025-05-11T03:00', '2025-05-11T04:00', '2025-05-11T05:00', '2025-05-11T06:00', '2025-05-11T07:00', '2025-05-11T08:00', '2025-05-11T09:00', '2025-05-11T10:00', '2025-05-11T11:00', '2025-05-11T12:00', '2025-05-11T13:00', '2025-05-11T14:00', '2025-05-11T15:00', '2025-05-11T16:00', '2025-05-11T17:00', '2025-05-11T18:00', '2025-05-11T19:00', '2025-05-11T20:00', '2025-05-11T21:00', '2025-05-11T22:00', '2025-05-11T23:00'], 'temperature_2m': [27.6, 27.5, 28.1, 29.4, 30.9, 31.8, 32.1, 31.9, 31.9, 31.9, 31.8, 31.4, 30.8, 30.1, 29.9, 29.7, 29.6, 29.4, 29.0, 28.6, 27.9, 27.9, 27.9, 27.7, 27.8, 27.9, 28.2, 28.9, 29.5, 30.2, 30.8, 31.1, 31.4, 31.4, 31.3, 30.9, 30.6, 30.3, 30.0, 29.8, 29.8, 29.7, 29.5, 29.3, 28.4, 27.9, 28.0, 28.1, 28.2, 28.3, 28.5, 28.9, 29.6, 30.8, 31.8, 32.0, 31.3, 31.0, 31.3, 31.0, 30.6, 30.2, 30.2, 29.8, 29.6, 29.2, 28.7, 28.4, 28.1, 27.9, 27.7, 27.6, 27.5, 27.4, 27.8, 29.0, 30.5, 31.6, 32.2, 32.2, 31.7, 31.3, 31.1, 30.8, 30.6, 30.3, 30.1, 29.9, 29.7, 29.6, 29.4, 29.0, 28.5, 28.1, 27.8, 27.7, 27.8, 28.3, 29.0, 29.7, 30.3, 30.8, 31.3, 31.5, 31.7, 31.6, 31.3, 30.8, 30.3, 29.7, 29.1, 28.6, 28.2, 28.0, 27.8, 27.6, 27.5, 27.4, 27.3, 27.2, 27.2, 27.4, 27.8, 28.2, 28.8, 29.4, 30.0, 30.3, 30.5, 30.6, 30.7, 30.8, 30.7, 30.4, 30.0, 29.6, 29.3, 29.1, 28.8, 28.5, 28.2, 27.9, 27.6, 27.2, 27.1, 27.5, 28.2, 28.9, 29.9, 31.0, 31.7, 32.0, 31.9, 31.7, 31.4, 30.9, 30.5, 30.1, 29.7, 29.4, 29.2, 29.0, 28.8, 28.7, 28.7, 28.5, 28.1, 27.6], 'relative_humidity_2m': [83, 84, 80, 75, 70, 67, 67, 71, 70, 70, 70, 71, 72, 74, 76, 78, 78, 79, 82, 85, 86, 85, 85, 86, 85, 85, 84, 81, 77, 74, 71, 71, 71, 72, 72, 74, 75, 75, 76, 78, 78, 78, 79, 80, 83, 85, 84, 83, 82, 82, 81, 80, 77, 70, 65, 67, 72, 72, 71, 73, 74, 76, 75, 77, 77, 81, 84, 86, 88, 88, 88, 89, 89, 89, 87, 80, 70, 64, 63, 64, 68, 71, 72, 72, 72, 73, 74, 75, 77, 78, 80, 82, 83, 84, 85, 85, 84, 82, 79, 76, 74, 72, 70, 69, 69, 69, 70, 72, 74, 76, 79, 81, 83, 84, 85, 86, 87, 87, 87, 87, 86, 85, 83, 81, 78, 75, 73, 72, 71, 70, 68, 66, 65, 66, 68, 71, 74, 77, 80, 82, 84, 85, 86, 87, 87, 85, 81, 77, 72, 67, 63, 62, 64, 65, 67, 69, 70, 71, 71, 71, 72, 73, 74, 73, 72, 72, 75, 80], 'wind_speed_10m': [4.5, 3.7, 4.3, 3.6, 0.5, 5.4, 10.7, 13.8, 15.3, 16.3, 14.8, 11.9, 8.7, 3.8, 3.1, 2.3, 2.9, 3.3, 3.9, 3.1, 1.5, 1.0, 2.0, 1.8, 2.2, 3.2, 3.8, 3.2, 3.9, 5.5, 8.6, 11.0, 13.2, 15.1, 15.0, 13.8, 10.6, 5.8, 4.7, 4.0, 1.8, 1.6, 1.8, 1.5, 3.5, 5.2, 4.2, 4.2, 4.3, 3.3, 2.6, 2.8, 1.8, 2.8, 7.0, 11.2, 13.7, 14.0, 13.7, 11.9, 9.7, 7.6, 4.1, 0.4, 2.3, 3.9, 5.2, 4.7, 3.7, 3.1, 3.0, 2.5, 2.9, 3.7, 4.3, 4.0, 2.6, 5.4, 10.5, 13.4, 15.6, 16.7, 16.4, 15.0, 13.5, 11.4, 9.2, 7.7, 6.4, 4.9, 4.0, 3.7, 4.9, 5.6, 5.3, 4.4, 3.7, 5.0, 8.0, 10.1, 10.5, 10.3, 10.8, 12.2, 13.9, 14.9, 15.1, 14.5, 13.2, 10.2, 6.8, 5.0, 4.7, 4.7, 4.7, 2.9, 1.8, 3.3, 4.6, 5.6, 6.2, 6.0, 5.5, 5.4, 6.4, 8.2, 10.1, 11.5, 12.7, 13.1, 12.5, 11.3, 10.1, 8.8, 7.1, 6.0, 5.5, 4.8, 4.3, 4.0, 3.9, 4.1, 4.8, 5.9, 6.5, 6.1, 5.5, 3.5, 1.5, 5.6, 9.8, 12.6, 15.1, 16.6, 17.3, 17.3, 16.6, 14.5, 11.4, 9.0, 7.5, 6.6, 5.9, 4.7, 3.3, 1.9, 1.0, 3.4]}}\n"
     ]
    },
    {
     "data": {
      "text/plain": [
       "32.1"
      ]
     },
     "execution_count": 12,
     "metadata": {},
     "output_type": "execute_result"
    }
   ],
   "source": [
    "result = globals()[tool_call.name](**args)\n",
    "result\n"
   ]
  },
  {
   "cell_type": "code",
   "execution_count": null,
   "id": "4be8f6f0",
   "metadata": {},
   "outputs": [],
   "source": []
  }
 ],
 "metadata": {
  "kernelspec": {
   "display_name": "env",
   "language": "python",
   "name": "python3"
  },
  "language_info": {
   "codemirror_mode": {
    "name": "ipython",
    "version": 3
   },
   "file_extension": ".py",
   "mimetype": "text/x-python",
   "name": "python",
   "nbconvert_exporter": "python",
   "pygments_lexer": "ipython3",
   "version": "3.12.1"
  }
 },
 "nbformat": 4,
 "nbformat_minor": 5
}
