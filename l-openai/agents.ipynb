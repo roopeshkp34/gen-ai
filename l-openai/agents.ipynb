{
 "cells": [
  {
   "cell_type": "code",
   "execution_count": 2,
   "id": "d00f058a",
   "metadata": {},
   "outputs": [
    {
     "name": "stderr",
     "output_type": "stream",
     "text": [
      "OPENAI_API_KEY is not set, skipping trace export\n",
      "OPENAI_API_KEY is not set, skipping trace export\n",
      "OPENAI_API_KEY is not set, skipping trace export\n"
     ]
    }
   ],
   "source": [
    "import os\n",
    "from openai import  OpenAI\n",
    "import requests, json\n",
    "from agents import Agent, Runner\n"
   ]
  },
  {
   "cell_type": "code",
   "execution_count": 6,
   "id": "7c1be1b2",
   "metadata": {},
   "outputs": [],
   "source": [
    "OPEN_AI_KEY = os.environ.get(\"OPEN_AI_KEY\")\n",
    "OPEN_AI_MODEL = \"gpt-4o-mini\"\n",
    "os.environ[\"OPENAI_API_KEY\"] = OPEN_AI_KEY"
   ]
  },
  {
   "cell_type": "code",
   "execution_count": null,
   "id": "96f27d00",
   "metadata": {},
   "outputs": [],
   "source": [
    "malayalam_agent = Agent(\n",
    "    name=\"Malayalam agent\",\n",
    "    instructions=\"You only speak Malayalam.\",\n",
    ")\n",
    "\n",
    "english_agent = Agent(\n",
    "    name=\"English agent\",\n",
    "    instructions=\"You only speak English\",\n",
    ")\n",
    "\n",
    "triage_agent = Agent(\n",
    "    name=\"Triage agent\",\n",
    "    instructions=\"Handoff to the appropriate agent based on the language of the request.\",\n",
    "    handoffs=[malayalam_agent, english_agent],\n",
    ")\n",
    "\n",
    "result = await Runner.run(triage_agent, input=\"ഹലോ, നിങ്ങൾക്ക് സുഖമാണോ?\")\n",
    "print(result.final_output)"
   ]
  },
  {
   "cell_type": "code",
   "execution_count": null,
   "id": "5bd3f973",
   "metadata": {},
   "outputs": [],
   "source": []
  }
 ],
 "metadata": {
  "kernelspec": {
   "display_name": "env",
   "language": "python",
   "name": "python3"
  },
  "language_info": {
   "codemirror_mode": {
    "name": "ipython",
    "version": 3
   },
   "file_extension": ".py",
   "mimetype": "text/x-python",
   "name": "python",
   "nbconvert_exporter": "python",
   "pygments_lexer": "ipython3",
   "version": "3.12.1"
  }
 },
 "nbformat": 4,
 "nbformat_minor": 5
}
